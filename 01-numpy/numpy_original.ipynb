{
 "cells": [
  {
   "cell_type": "markdown",
   "id": "1af20131-e6fe-4758-be17-d8d1a7cc8b3c",
   "metadata": {},
   "source": [
    "# Numpy\n",
    "\n",
    "The NumPy library is the core library for scientific computing in Python. It provides a high-performance multidimentional array object and tools for working with arrays\n",
    "\n",
    "*Use the following import convention:*"
   ]
  },
  {
   "cell_type": "code",
   "execution_count": 81,
   "id": "8fe4050e-915b-4993-82bd-6cbae872d3ac",
   "metadata": {},
   "outputs": [],
   "source": [
    "import numpy as np"
   ]
  },
  {
   "cell_type": "markdown",
   "id": "ee56a8ce-866d-4e86-ac32-712be01c407d",
   "metadata": {},
   "source": [
    "## Creating Arrays"
   ]
  },
  {
   "cell_type": "markdown",
   "id": "99cd5490-015d-43fd-b347-766b98b7dbd5",
   "metadata": {},
   "source": [
    "### Array Initialization"
   ]
  },
  {
   "cell_type": "code",
   "execution_count": 82,
   "id": "ec90d09f-9fca-4c9f-985a-c931b9e22759",
   "metadata": {},
   "outputs": [
    {
     "data": {
      "text/plain": [
       "array([1, 2, 3])"
      ]
     },
     "execution_count": 82,
     "metadata": {},
     "output_type": "execute_result"
    }
   ],
   "source": [
    "# one-dimentional array\n",
    "np.array([1,2,3])"
   ]
  },
  {
   "cell_type": "code",
   "execution_count": 83,
   "id": "5feaf9f4-4839-4c69-b839-3f3d747e87f0",
   "metadata": {},
   "outputs": [
    {
     "data": {
      "text/plain": [
       "array([[1.5, 2. , 3. ],\n",
       "       [4. , 5. , 6. ]])"
      ]
     },
     "execution_count": 83,
     "metadata": {},
     "output_type": "execute_result"
    }
   ],
   "source": [
    "# two-dimentional array\n",
    "np.array([(1.5, 2,3),(4,5,6)],dtype=float)"
   ]
  },
  {
   "cell_type": "code",
   "execution_count": 84,
   "id": "0b8416f2-4feb-4eb6-869f-6fbb9f703e05",
   "metadata": {},
   "outputs": [
    {
     "data": {
      "text/plain": [
       "array([[[1.5, 2. , 3. ],\n",
       "        [4. , 5. , 6. ]],\n",
       "\n",
       "       [[3. , 2. , 1. ],\n",
       "        [6. , 5. , 4. ]]])"
      ]
     },
     "execution_count": 84,
     "metadata": {},
     "output_type": "execute_result"
    }
   ],
   "source": [
    "# three-dimentional array\n",
    "np.array([[(1.5, 2,3),(4,5,6)],[(3,2,1),(6,5,4)]],dtype=float)"
   ]
  },
  {
   "cell_type": "markdown",
   "id": "27d677bf-e0cd-4e57-8ccf-f54be60ba01f",
   "metadata": {},
   "source": [
    "### Initial Placeholders"
   ]
  },
  {
   "cell_type": "code",
   "execution_count": 85,
   "id": "eb84e536-55eb-4ff3-a58a-a0604d976b54",
   "metadata": {},
   "outputs": [
    {
     "data": {
      "text/plain": [
       "array([[0., 0., 0., 0.],\n",
       "       [0., 0., 0., 0.],\n",
       "       [0., 0., 0., 0.]])"
      ]
     },
     "execution_count": 85,
     "metadata": {},
     "output_type": "execute_result"
    }
   ],
   "source": [
    "np.zeros((3,4)) #create an array of seros"
   ]
  },
  {
   "cell_type": "code",
   "execution_count": 86,
   "id": "aa7b59df-8687-4cbf-9730-36075af43f1c",
   "metadata": {},
   "outputs": [
    {
     "data": {
      "text/plain": [
       "array([[[1, 1, 1, 1],\n",
       "        [1, 1, 1, 1],\n",
       "        [1, 1, 1, 1]],\n",
       "\n",
       "       [[1, 1, 1, 1],\n",
       "        [1, 1, 1, 1],\n",
       "        [1, 1, 1, 1]]], dtype=int16)"
      ]
     },
     "execution_count": 86,
     "metadata": {},
     "output_type": "execute_result"
    }
   ],
   "source": [
    "np.ones((2,3,4), dtype=np.int16) #creates an array of ones"
   ]
  },
  {
   "cell_type": "code",
   "execution_count": 87,
   "id": "f923fead-6a0c-46da-aa94-29c8e281b777",
   "metadata": {},
   "outputs": [
    {
     "data": {
      "text/plain": [
       "array([10, 15, 20])"
      ]
     },
     "execution_count": 87,
     "metadata": {},
     "output_type": "execute_result"
    }
   ],
   "source": [
    "np.arange(10,25,5) #create an array of evenly spaced values (step value)"
   ]
  },
  {
   "cell_type": "code",
   "execution_count": 88,
   "id": "c4195006-4821-43a2-9ac1-c42bb786171e",
   "metadata": {},
   "outputs": [
    {
     "data": {
      "text/plain": [
       "array([0.  , 0.25, 0.5 , 0.75, 1.  , 1.25, 1.5 , 1.75, 2.  ])"
      ]
     },
     "execution_count": 88,
     "metadata": {},
     "output_type": "execute_result"
    }
   ],
   "source": [
    "np.linspace(0,2,9) #create an array of evenly spaced values (number of samples)"
   ]
  },
  {
   "cell_type": "code",
   "execution_count": 89,
   "id": "73924542-1121-4a61-932c-7853608215dc",
   "metadata": {},
   "outputs": [
    {
     "data": {
      "text/plain": [
       "array([[7, 7],\n",
       "       [7, 7]])"
      ]
     },
     "execution_count": 89,
     "metadata": {},
     "output_type": "execute_result"
    }
   ],
   "source": [
    "np.full((2,2),7) #create a constant array"
   ]
  },
  {
   "cell_type": "code",
   "execution_count": 90,
   "id": "57b0e088-389e-402f-bd07-9e793952ddb1",
   "metadata": {},
   "outputs": [
    {
     "data": {
      "text/plain": [
       "array([[1., 0.],\n",
       "       [0., 1.]])"
      ]
     },
     "execution_count": 90,
     "metadata": {},
     "output_type": "execute_result"
    }
   ],
   "source": [
    "np.eye(2) #create a 2x2 identity matrix"
   ]
  },
  {
   "cell_type": "code",
   "execution_count": 91,
   "id": "f9b6db47-43b2-48f3-b02c-4961d356b080",
   "metadata": {},
   "outputs": [
    {
     "data": {
      "text/plain": [
       "array([[0.37943162, 0.48028923],\n",
       "       [0.14266575, 0.13117053]])"
      ]
     },
     "execution_count": 91,
     "metadata": {},
     "output_type": "execute_result"
    }
   ],
   "source": [
    "np.random.random((2,2)) #create an array with random values"
   ]
  },
  {
   "cell_type": "code",
   "execution_count": 92,
   "id": "77d6e6fb-6059-453c-aca9-687558e691dd",
   "metadata": {},
   "outputs": [
    {
     "data": {
      "text/plain": [
       "array([[1.5, 2. ],\n",
       "       [3. , 4. ],\n",
       "       [5. , 6. ]])"
      ]
     },
     "execution_count": 92,
     "metadata": {},
     "output_type": "execute_result"
    }
   ],
   "source": [
    "np.empty((3,2)) #create anempty array"
   ]
  },
  {
   "cell_type": "markdown",
   "id": "b4ad27ea-e463-49d2-abbb-201003d554ed",
   "metadata": {},
   "source": [
    "## I/O"
   ]
  },
  {
   "cell_type": "markdown",
   "id": "177f1f5a-0c26-41df-81f9-0097e27bdfa1",
   "metadata": {},
   "source": [
    "### Saving & Loading On Disk"
   ]
  },
  {
   "cell_type": "code",
   "execution_count": 93,
   "id": "7892befd-227e-4e90-8fa0-2d2ae50c3ddc",
   "metadata": {},
   "outputs": [],
   "source": [
    "np.save('my_array', a)"
   ]
  },
  {
   "cell_type": "code",
   "execution_count": 94,
   "id": "bf232b9d-0d69-4b9f-9faf-ddcb3032a739",
   "metadata": {},
   "outputs": [],
   "source": [
    "np.savez('array.npz', a, b)"
   ]
  },
  {
   "cell_type": "code",
   "execution_count": 95,
   "id": "c5b9054d-ad21-4b87-be04-b48e82cd2890",
   "metadata": {},
   "outputs": [
    {
     "data": {
      "text/plain": [
       "array([1, 2, 3])"
      ]
     },
     "execution_count": 95,
     "metadata": {},
     "output_type": "execute_result"
    }
   ],
   "source": [
    "np.load('my_array.npy')"
   ]
  },
  {
   "cell_type": "markdown",
   "id": "6c71cec3-1d7d-44c7-bc24-242ba46f2afe",
   "metadata": {},
   "source": [
    "Saving & Loading Text Files"
   ]
  },
  {
   "cell_type": "code",
   "execution_count": 96,
   "id": "fa162394-ed1f-44ee-a3d6-05b78e6c90b1",
   "metadata": {},
   "outputs": [
    {
     "ename": "FileNotFoundError",
     "evalue": "myfile.txt not found.",
     "output_type": "error",
     "traceback": [
      "\u001b[1;31m---------------------------------------------------------------------------\u001b[0m",
      "\u001b[1;31mFileNotFoundError\u001b[0m                         Traceback (most recent call last)",
      "Cell \u001b[1;32mIn[96], line 1\u001b[0m\n\u001b[1;32m----> 1\u001b[0m np\u001b[38;5;241m.\u001b[39mloadtxt(\u001b[38;5;124m\"\u001b[39m\u001b[38;5;124mmyfile.txt\u001b[39m\u001b[38;5;124m\"\u001b[39m)\n",
      "File \u001b[1;32m~\\anaconda3\\Lib\\site-packages\\numpy\\lib\\_npyio_impl.py:1397\u001b[0m, in \u001b[0;36mloadtxt\u001b[1;34m(fname, dtype, comments, delimiter, converters, skiprows, usecols, unpack, ndmin, encoding, max_rows, quotechar, like)\u001b[0m\n\u001b[0;32m   1394\u001b[0m \u001b[38;5;28;01mif\u001b[39;00m \u001b[38;5;28misinstance\u001b[39m(delimiter, \u001b[38;5;28mbytes\u001b[39m):\n\u001b[0;32m   1395\u001b[0m     delimiter \u001b[38;5;241m=\u001b[39m delimiter\u001b[38;5;241m.\u001b[39mdecode(\u001b[38;5;124m'\u001b[39m\u001b[38;5;124mlatin1\u001b[39m\u001b[38;5;124m'\u001b[39m)\n\u001b[1;32m-> 1397\u001b[0m arr \u001b[38;5;241m=\u001b[39m _read(fname, dtype\u001b[38;5;241m=\u001b[39mdtype, comment\u001b[38;5;241m=\u001b[39mcomment, delimiter\u001b[38;5;241m=\u001b[39mdelimiter,\n\u001b[0;32m   1398\u001b[0m             converters\u001b[38;5;241m=\u001b[39mconverters, skiplines\u001b[38;5;241m=\u001b[39mskiprows, usecols\u001b[38;5;241m=\u001b[39musecols,\n\u001b[0;32m   1399\u001b[0m             unpack\u001b[38;5;241m=\u001b[39munpack, ndmin\u001b[38;5;241m=\u001b[39mndmin, encoding\u001b[38;5;241m=\u001b[39mencoding,\n\u001b[0;32m   1400\u001b[0m             max_rows\u001b[38;5;241m=\u001b[39mmax_rows, quote\u001b[38;5;241m=\u001b[39mquotechar)\n\u001b[0;32m   1402\u001b[0m \u001b[38;5;28;01mreturn\u001b[39;00m arr\n",
      "File \u001b[1;32m~\\anaconda3\\Lib\\site-packages\\numpy\\lib\\_npyio_impl.py:1012\u001b[0m, in \u001b[0;36m_read\u001b[1;34m(fname, delimiter, comment, quote, imaginary_unit, usecols, skiplines, max_rows, converters, ndmin, unpack, dtype, encoding)\u001b[0m\n\u001b[0;32m   1010\u001b[0m     fname \u001b[38;5;241m=\u001b[39m os\u001b[38;5;241m.\u001b[39mfspath(fname)\n\u001b[0;32m   1011\u001b[0m \u001b[38;5;28;01mif\u001b[39;00m \u001b[38;5;28misinstance\u001b[39m(fname, \u001b[38;5;28mstr\u001b[39m):\n\u001b[1;32m-> 1012\u001b[0m     fh \u001b[38;5;241m=\u001b[39m np\u001b[38;5;241m.\u001b[39mlib\u001b[38;5;241m.\u001b[39m_datasource\u001b[38;5;241m.\u001b[39mopen(fname, \u001b[38;5;124m'\u001b[39m\u001b[38;5;124mrt\u001b[39m\u001b[38;5;124m'\u001b[39m, encoding\u001b[38;5;241m=\u001b[39mencoding)\n\u001b[0;32m   1013\u001b[0m     \u001b[38;5;28;01mif\u001b[39;00m encoding \u001b[38;5;129;01mis\u001b[39;00m \u001b[38;5;28;01mNone\u001b[39;00m:\n\u001b[0;32m   1014\u001b[0m         encoding \u001b[38;5;241m=\u001b[39m \u001b[38;5;28mgetattr\u001b[39m(fh, \u001b[38;5;124m'\u001b[39m\u001b[38;5;124mencoding\u001b[39m\u001b[38;5;124m'\u001b[39m, \u001b[38;5;124m'\u001b[39m\u001b[38;5;124mlatin1\u001b[39m\u001b[38;5;124m'\u001b[39m)\n",
      "File \u001b[1;32m~\\anaconda3\\Lib\\site-packages\\numpy\\lib\\_datasource.py:192\u001b[0m, in \u001b[0;36mopen\u001b[1;34m(path, mode, destpath, encoding, newline)\u001b[0m\n\u001b[0;32m    155\u001b[0m \u001b[38;5;250m\u001b[39m\u001b[38;5;124;03m\"\"\"\u001b[39;00m\n\u001b[0;32m    156\u001b[0m \u001b[38;5;124;03mOpen `path` with `mode` and return the file object.\u001b[39;00m\n\u001b[0;32m    157\u001b[0m \n\u001b[1;32m   (...)\u001b[0m\n\u001b[0;32m    188\u001b[0m \n\u001b[0;32m    189\u001b[0m \u001b[38;5;124;03m\"\"\"\u001b[39;00m\n\u001b[0;32m    191\u001b[0m ds \u001b[38;5;241m=\u001b[39m DataSource(destpath)\n\u001b[1;32m--> 192\u001b[0m \u001b[38;5;28;01mreturn\u001b[39;00m ds\u001b[38;5;241m.\u001b[39mopen(path, mode, encoding\u001b[38;5;241m=\u001b[39mencoding, newline\u001b[38;5;241m=\u001b[39mnewline)\n",
      "File \u001b[1;32m~\\anaconda3\\Lib\\site-packages\\numpy\\lib\\_datasource.py:529\u001b[0m, in \u001b[0;36mDataSource.open\u001b[1;34m(self, path, mode, encoding, newline)\u001b[0m\n\u001b[0;32m    526\u001b[0m     \u001b[38;5;28;01mreturn\u001b[39;00m _file_openers[ext](found, mode\u001b[38;5;241m=\u001b[39mmode,\n\u001b[0;32m    527\u001b[0m                               encoding\u001b[38;5;241m=\u001b[39mencoding, newline\u001b[38;5;241m=\u001b[39mnewline)\n\u001b[0;32m    528\u001b[0m \u001b[38;5;28;01melse\u001b[39;00m:\n\u001b[1;32m--> 529\u001b[0m     \u001b[38;5;28;01mraise\u001b[39;00m \u001b[38;5;167;01mFileNotFoundError\u001b[39;00m(\u001b[38;5;124mf\u001b[39m\u001b[38;5;124m\"\u001b[39m\u001b[38;5;132;01m{\u001b[39;00mpath\u001b[38;5;132;01m}\u001b[39;00m\u001b[38;5;124m not found.\u001b[39m\u001b[38;5;124m\"\u001b[39m)\n",
      "\u001b[1;31mFileNotFoundError\u001b[0m: myfile.txt not found."
     ]
    }
   ],
   "source": [
    "np.loadtxt(\"myfile.txt\")"
   ]
  },
  {
   "cell_type": "code",
   "execution_count": 97,
   "id": "c4af80fc-03d7-437c-98d1-8940563d2f83",
   "metadata": {},
   "outputs": [
    {
     "ename": "FileNotFoundError",
     "evalue": "my_file.csv not found.",
     "output_type": "error",
     "traceback": [
      "\u001b[1;31m---------------------------------------------------------------------------\u001b[0m",
      "\u001b[1;31mFileNotFoundError\u001b[0m                         Traceback (most recent call last)",
      "Cell \u001b[1;32mIn[97], line 1\u001b[0m\n\u001b[1;32m----> 1\u001b[0m np\u001b[38;5;241m.\u001b[39mgenfromtxt( \u001b[38;5;124m\"\u001b[39m\u001b[38;5;124mmy_file.csv\u001b[39m\u001b[38;5;124m\"\u001b[39m, delimiter\u001b[38;5;241m=\u001b[39m \u001b[38;5;124m'\u001b[39m\u001b[38;5;124m,\u001b[39m\u001b[38;5;124m'\u001b[39m)\n",
      "File \u001b[1;32m~\\anaconda3\\Lib\\site-packages\\numpy\\lib\\_npyio_impl.py:2007\u001b[0m, in \u001b[0;36mgenfromtxt\u001b[1;34m(fname, dtype, comments, delimiter, skip_header, skip_footer, converters, missing_values, filling_values, usecols, names, excludelist, deletechars, replace_space, autostrip, case_sensitive, defaultfmt, unpack, usemask, loose, invalid_raise, max_rows, encoding, ndmin, like)\u001b[0m\n\u001b[0;32m   2005\u001b[0m     fname \u001b[38;5;241m=\u001b[39m os\u001b[38;5;241m.\u001b[39mfspath(fname)\n\u001b[0;32m   2006\u001b[0m \u001b[38;5;28;01mif\u001b[39;00m \u001b[38;5;28misinstance\u001b[39m(fname, \u001b[38;5;28mstr\u001b[39m):\n\u001b[1;32m-> 2007\u001b[0m     fid \u001b[38;5;241m=\u001b[39m np\u001b[38;5;241m.\u001b[39mlib\u001b[38;5;241m.\u001b[39m_datasource\u001b[38;5;241m.\u001b[39mopen(fname, \u001b[38;5;124m'\u001b[39m\u001b[38;5;124mrt\u001b[39m\u001b[38;5;124m'\u001b[39m, encoding\u001b[38;5;241m=\u001b[39mencoding)\n\u001b[0;32m   2008\u001b[0m     fid_ctx \u001b[38;5;241m=\u001b[39m contextlib\u001b[38;5;241m.\u001b[39mclosing(fid)\n\u001b[0;32m   2009\u001b[0m \u001b[38;5;28;01melse\u001b[39;00m:\n",
      "File \u001b[1;32m~\\anaconda3\\Lib\\site-packages\\numpy\\lib\\_datasource.py:192\u001b[0m, in \u001b[0;36mopen\u001b[1;34m(path, mode, destpath, encoding, newline)\u001b[0m\n\u001b[0;32m    155\u001b[0m \u001b[38;5;250m\u001b[39m\u001b[38;5;124;03m\"\"\"\u001b[39;00m\n\u001b[0;32m    156\u001b[0m \u001b[38;5;124;03mOpen `path` with `mode` and return the file object.\u001b[39;00m\n\u001b[0;32m    157\u001b[0m \n\u001b[1;32m   (...)\u001b[0m\n\u001b[0;32m    188\u001b[0m \n\u001b[0;32m    189\u001b[0m \u001b[38;5;124;03m\"\"\"\u001b[39;00m\n\u001b[0;32m    191\u001b[0m ds \u001b[38;5;241m=\u001b[39m DataSource(destpath)\n\u001b[1;32m--> 192\u001b[0m \u001b[38;5;28;01mreturn\u001b[39;00m ds\u001b[38;5;241m.\u001b[39mopen(path, mode, encoding\u001b[38;5;241m=\u001b[39mencoding, newline\u001b[38;5;241m=\u001b[39mnewline)\n",
      "File \u001b[1;32m~\\anaconda3\\Lib\\site-packages\\numpy\\lib\\_datasource.py:529\u001b[0m, in \u001b[0;36mDataSource.open\u001b[1;34m(self, path, mode, encoding, newline)\u001b[0m\n\u001b[0;32m    526\u001b[0m     \u001b[38;5;28;01mreturn\u001b[39;00m _file_openers[ext](found, mode\u001b[38;5;241m=\u001b[39mmode,\n\u001b[0;32m    527\u001b[0m                               encoding\u001b[38;5;241m=\u001b[39mencoding, newline\u001b[38;5;241m=\u001b[39mnewline)\n\u001b[0;32m    528\u001b[0m \u001b[38;5;28;01melse\u001b[39;00m:\n\u001b[1;32m--> 529\u001b[0m     \u001b[38;5;28;01mraise\u001b[39;00m \u001b[38;5;167;01mFileNotFoundError\u001b[39;00m(\u001b[38;5;124mf\u001b[39m\u001b[38;5;124m\"\u001b[39m\u001b[38;5;132;01m{\u001b[39;00mpath\u001b[38;5;132;01m}\u001b[39;00m\u001b[38;5;124m not found.\u001b[39m\u001b[38;5;124m\"\u001b[39m)\n",
      "\u001b[1;31mFileNotFoundError\u001b[0m: my_file.csv not found."
     ]
    }
   ],
   "source": [
    "np.genfromtxt( \"my_file.csv\", delimiter= ',')"
   ]
  },
  {
   "cell_type": "code",
   "execution_count": 98,
   "id": "280cac7e-779d-4dd9-a789-37c29be9af5f",
   "metadata": {},
   "outputs": [],
   "source": [
    "np.savetxt(\"myarray.txt\", a, delimiter=\" \")"
   ]
  },
  {
   "cell_type": "markdown",
   "id": "72efa384-c96d-4a61-b3bb-3948b878317a",
   "metadata": {},
   "source": [
    "## Asking For Help"
   ]
  },
  {
   "cell_type": "code",
   "execution_count": 99,
   "id": "37b125d3-f13f-463b-b15e-22a90308d9dc",
   "metadata": {},
   "outputs": [
    {
     "name": "stdout",
     "output_type": "stream",
     "text": [
      "Data-type of the array's elements.\n",
      "\n",
      ".. warning::\n",
      "\n",
      "    Setting ``arr.dtype`` is discouraged and may be deprecated in the\n",
      "    future.  Setting will replace the ``dtype`` without modifying the\n",
      "    memory (see also `ndarray.view` and `ndarray.astype`).\n",
      "\n",
      "Parameters\n",
      "----------\n",
      "None\n",
      "\n",
      "Returns\n",
      "-------\n",
      "d : numpy dtype object\n",
      "\n",
      "See Also\n",
      "--------\n",
      "ndarray.astype : Cast the values contained in the array to a new data-type.\n",
      "ndarray.view : Create a view of the same data but a different data-type.\n",
      "numpy.dtype\n",
      "\n",
      "Examples\n",
      "--------\n",
      ">>> x\n",
      "array([[0, 1],\n",
      "       [2, 3]])\n",
      ">>> x.dtype\n",
      "dtype('int32')\n",
      ">>> type(x.dtype)\n",
      "<type 'numpy.dtype'>\n"
     ]
    }
   ],
   "source": [
    "np.info(np.ndarray.dtype)"
   ]
  },
  {
   "cell_type": "markdown",
   "id": "ccdca432-6019-4c35-9a2b-420dd27069f5",
   "metadata": {},
   "source": [
    "## Inspecting Array"
   ]
  },
  {
   "cell_type": "code",
   "execution_count": 100,
   "id": "d56655ac-3fdf-403b-ad13-54fefd7c30cd",
   "metadata": {},
   "outputs": [],
   "source": [
    "a = np.array([1,2,3])\n",
    "b = np.array([(1.5,2,3), (4,5,6)], dtype = float)\n",
    "c = np.array([[(1.5,2,3), (4,5,6)],[(3,2,1), (4,5,6)]], dtype = float)\n",
    "d = np.arange(10,25,5)\n",
    "e = np.full((2,2),7)\n",
    "f = np.eye(2)"
   ]
  },
  {
   "cell_type": "code",
   "execution_count": 101,
   "id": "4110ff00-ae44-4134-b500-40cea722dd6a",
   "metadata": {},
   "outputs": [
    {
     "data": {
      "text/plain": [
       "(3,)"
      ]
     },
     "execution_count": 101,
     "metadata": {},
     "output_type": "execute_result"
    }
   ],
   "source": [
    "a.shape #Array dimensions"
   ]
  },
  {
   "cell_type": "code",
   "execution_count": 102,
   "id": "328e0304-8b3e-4672-8393-cd6df03d548c",
   "metadata": {},
   "outputs": [
    {
     "data": {
      "text/plain": [
       "3"
      ]
     },
     "execution_count": 102,
     "metadata": {},
     "output_type": "execute_result"
    }
   ],
   "source": [
    "len(a) #Length of array"
   ]
  },
  {
   "cell_type": "code",
   "execution_count": 103,
   "id": "aac5a139-7aa4-4c48-8406-9201e0b3117a",
   "metadata": {},
   "outputs": [
    {
     "data": {
      "text/plain": [
       "2"
      ]
     },
     "execution_count": 103,
     "metadata": {},
     "output_type": "execute_result"
    }
   ],
   "source": [
    "b.ndim #Number of array dimensions"
   ]
  },
  {
   "cell_type": "code",
   "execution_count": 104,
   "id": "2e9a8cfb-4cd7-4dc6-b368-0a99d3f70178",
   "metadata": {},
   "outputs": [
    {
     "data": {
      "text/plain": [
       "4"
      ]
     },
     "execution_count": 104,
     "metadata": {},
     "output_type": "execute_result"
    }
   ],
   "source": [
    "e.size #Number of array elements"
   ]
  },
  {
   "cell_type": "code",
   "execution_count": 105,
   "id": "fa84e25b-ded7-42e1-b335-18bb7105f6b7",
   "metadata": {},
   "outputs": [
    {
     "data": {
      "text/plain": [
       "dtype('float64')"
      ]
     },
     "execution_count": 105,
     "metadata": {},
     "output_type": "execute_result"
    }
   ],
   "source": [
    "b.dtype #Data type of array elements"
   ]
  },
  {
   "cell_type": "code",
   "execution_count": 106,
   "id": "9bd7ac80-217f-472f-bc5f-ba756a4f9da5",
   "metadata": {},
   "outputs": [
    {
     "data": {
      "text/plain": [
       "'float64'"
      ]
     },
     "execution_count": 106,
     "metadata": {},
     "output_type": "execute_result"
    }
   ],
   "source": [
    "b.dtype.name #Name of data type"
   ]
  },
  {
   "cell_type": "code",
   "execution_count": 107,
   "id": "da0212c1-70bd-4b5d-883a-39ebcf481fda",
   "metadata": {},
   "outputs": [
    {
     "data": {
      "text/plain": [
       "array([[1, 2, 3],\n",
       "       [4, 5, 6]])"
      ]
     },
     "execution_count": 107,
     "metadata": {},
     "output_type": "execute_result"
    }
   ],
   "source": [
    "b.astype(int) #Convert an array to a different type"
   ]
  },
  {
   "cell_type": "markdown",
   "id": "853340d9-2ee9-4434-b5f6-8e98a0d625a4",
   "metadata": {},
   "source": [
    "## Data Types"
   ]
  },
  {
   "cell_type": "code",
   "execution_count": 108,
   "id": "9fe473a1-59a0-421b-96b1-6b97183334e5",
   "metadata": {},
   "outputs": [
    {
     "data": {
      "text/plain": [
       "numpy.int64"
      ]
     },
     "execution_count": 108,
     "metadata": {},
     "output_type": "execute_result"
    }
   ],
   "source": [
    "np.int64 #Signed 64-bit integer types"
   ]
  },
  {
   "cell_type": "code",
   "execution_count": 109,
   "id": "5abbf5e1-bf34-4738-b6d1-dde889297f90",
   "metadata": {},
   "outputs": [
    {
     "data": {
      "text/plain": [
       "numpy.float32"
      ]
     },
     "execution_count": 109,
     "metadata": {},
     "output_type": "execute_result"
    }
   ],
   "source": [
    "np.float32 #Standard double-precision floating point"
   ]
  },
  {
   "cell_type": "code",
   "execution_count": 110,
   "id": "12deef03-af70-4260-bd3b-49c85d317a27",
   "metadata": {},
   "outputs": [
    {
     "data": {
      "text/plain": [
       "numpy.bool"
      ]
     },
     "execution_count": 110,
     "metadata": {},
     "output_type": "execute_result"
    }
   ],
   "source": [
    "np.bool #Boolean type storing TRUE and FALSE values"
   ]
  },
  {
   "cell_type": "code",
   "execution_count": 111,
   "id": "5c71126d-a3ec-4efc-b173-80bf022b3c60",
   "metadata": {},
   "outputs": [
    {
     "data": {
      "text/plain": [
       "numpy.bytes_"
      ]
     },
     "execution_count": 111,
     "metadata": {},
     "output_type": "execute_result"
    }
   ],
   "source": [
    "np.bytes_ #Fixed-length string type"
   ]
  },
  {
   "cell_type": "code",
   "execution_count": 112,
   "id": "b91d7719-f729-45d7-bb5c-aea4dbbe44dc",
   "metadata": {},
   "outputs": [
    {
     "data": {
      "text/plain": [
       "numpy.str_"
      ]
     },
     "execution_count": 112,
     "metadata": {},
     "output_type": "execute_result"
    }
   ],
   "source": [
    "np.str_ #Fixed-length unicode type"
   ]
  },
  {
   "cell_type": "markdown",
   "id": "7b86c869-731e-4b3c-917a-5c4f55792c80",
   "metadata": {},
   "source": [
    "## Array Mathematics"
   ]
  },
  {
   "cell_type": "markdown",
   "id": "878e4518-0ad2-4a7b-87a3-5419175c10de",
   "metadata": {},
   "source": [
    "### Arithmetic Operations"
   ]
  },
  {
   "cell_type": "code",
   "execution_count": 113,
   "id": "e82850c1-0fec-4c7b-91ed-7a5cd8f31215",
   "metadata": {},
   "outputs": [
    {
     "data": {
      "text/plain": [
       "array([[-0.5,  0. ,  0. ],\n",
       "       [-3. , -3. , -3. ]])"
      ]
     },
     "execution_count": 113,
     "metadata": {},
     "output_type": "execute_result"
    }
   ],
   "source": [
    "g = a-b\n",
    "g"
   ]
  },
  {
   "cell_type": "code",
   "execution_count": 114,
   "id": "cf1c4b99-6890-43e6-bd15-47e1833425ea",
   "metadata": {},
   "outputs": [
    {
     "data": {
      "text/plain": [
       "array([[-0.5,  0. ,  0. ],\n",
       "       [-3. , -3. , -3. ]])"
      ]
     },
     "execution_count": 114,
     "metadata": {},
     "output_type": "execute_result"
    }
   ],
   "source": [
    "np.subtract(a,b)"
   ]
  },
  {
   "cell_type": "code",
   "execution_count": 115,
   "id": "8cd025cf-7bf7-4e19-8311-ba44d60d42cb",
   "metadata": {},
   "outputs": [
    {
     "data": {
      "text/plain": [
       "array([[2.5, 4. , 6. ],\n",
       "       [5. , 7. , 9. ]])"
      ]
     },
     "execution_count": 115,
     "metadata": {},
     "output_type": "execute_result"
    }
   ],
   "source": [
    "b + a"
   ]
  },
  {
   "cell_type": "code",
   "execution_count": 116,
   "id": "dd06d26b-9cd5-41fa-ab6d-c0da9bac6ef5",
   "metadata": {},
   "outputs": [
    {
     "data": {
      "text/plain": [
       "array([[2.5, 4. , 6. ],\n",
       "       [5. , 7. , 9. ]])"
      ]
     },
     "execution_count": 116,
     "metadata": {},
     "output_type": "execute_result"
    }
   ],
   "source": [
    "np.add(b,a)"
   ]
  },
  {
   "cell_type": "code",
   "execution_count": 117,
   "id": "adea407e-109e-4afc-a975-2d6d0107e233",
   "metadata": {},
   "outputs": [
    {
     "data": {
      "text/plain": [
       "array([[0.66666667, 1.        , 1.        ],\n",
       "       [0.25      , 0.4       , 0.5       ]])"
      ]
     },
     "execution_count": 117,
     "metadata": {},
     "output_type": "execute_result"
    }
   ],
   "source": [
    "a / b"
   ]
  },
  {
   "cell_type": "code",
   "execution_count": 118,
   "id": "d78142de-3564-4f97-8084-b0fc61e7a8f8",
   "metadata": {},
   "outputs": [
    {
     "data": {
      "text/plain": [
       "array([[0.66666667, 1.        , 1.        ],\n",
       "       [0.25      , 0.4       , 0.5       ]])"
      ]
     },
     "execution_count": 118,
     "metadata": {},
     "output_type": "execute_result"
    }
   ],
   "source": [
    "np.divide(a,b)"
   ]
  },
  {
   "cell_type": "code",
   "execution_count": 119,
   "id": "d7b59e06-aa69-4f32-bf65-416075778e16",
   "metadata": {},
   "outputs": [
    {
     "data": {
      "text/plain": [
       "array([[ 1.5,  4. ,  9. ],\n",
       "       [ 4. , 10. , 18. ]])"
      ]
     },
     "execution_count": 119,
     "metadata": {},
     "output_type": "execute_result"
    }
   ],
   "source": [
    "a * b"
   ]
  },
  {
   "cell_type": "code",
   "execution_count": 120,
   "id": "fb666a03-4c89-4b36-9959-dfaff7ae45a9",
   "metadata": {},
   "outputs": [
    {
     "data": {
      "text/plain": [
       "array([[ 1.5,  4. ,  9. ],\n",
       "       [ 4. , 10. , 18. ]])"
      ]
     },
     "execution_count": 120,
     "metadata": {},
     "output_type": "execute_result"
    }
   ],
   "source": [
    "np.multiply(a,b)"
   ]
  },
  {
   "cell_type": "code",
   "execution_count": 121,
   "id": "8fbf65b0-12cd-4669-8cb9-570617bb0e8c",
   "metadata": {},
   "outputs": [
    {
     "data": {
      "text/plain": [
       "array([[  4.48168907,   7.3890561 ,  20.08553692],\n",
       "       [ 54.59815003, 148.4131591 , 403.42879349]])"
      ]
     },
     "execution_count": 121,
     "metadata": {},
     "output_type": "execute_result"
    }
   ],
   "source": [
    "np.exp(b) #Exponentiation"
   ]
  },
  {
   "cell_type": "code",
   "execution_count": 122,
   "id": "d76f8c79-a618-4170-97e9-1d8a5b806a73",
   "metadata": {},
   "outputs": [
    {
     "data": {
      "text/plain": [
       "array([[1.22474487, 1.41421356, 1.73205081],\n",
       "       [2.        , 2.23606798, 2.44948974]])"
      ]
     },
     "execution_count": 122,
     "metadata": {},
     "output_type": "execute_result"
    }
   ],
   "source": [
    "np.sqrt(b) #Square root"
   ]
  },
  {
   "cell_type": "code",
   "execution_count": 123,
   "id": "61f92ec3-982f-4ba6-a6da-490dc664a08d",
   "metadata": {},
   "outputs": [
    {
     "data": {
      "text/plain": [
       "array([0.84147098, 0.90929743, 0.14112001])"
      ]
     },
     "execution_count": 123,
     "metadata": {},
     "output_type": "execute_result"
    }
   ],
   "source": [
    "np.sin(a) #Print sines of an array"
   ]
  },
  {
   "cell_type": "code",
   "execution_count": 124,
   "id": "5ce0b18d-d5a5-4427-9ac9-35facae0c427",
   "metadata": {},
   "outputs": [
    {
     "data": {
      "text/plain": [
       "array([[ 0.0707372 , -0.41614684, -0.9899925 ],\n",
       "       [-0.65364362,  0.28366219,  0.96017029]])"
      ]
     },
     "execution_count": 124,
     "metadata": {},
     "output_type": "execute_result"
    }
   ],
   "source": [
    "np.cos(b)"
   ]
  },
  {
   "cell_type": "code",
   "execution_count": 125,
   "id": "c41f39b7-5b2e-4af9-9950-f1a2c0585884",
   "metadata": {},
   "outputs": [
    {
     "data": {
      "text/plain": [
       "array([0.        , 0.69314718, 1.09861229])"
      ]
     },
     "execution_count": 125,
     "metadata": {},
     "output_type": "execute_result"
    }
   ],
   "source": [
    "np.log(a)"
   ]
  },
  {
   "cell_type": "code",
   "execution_count": 126,
   "id": "183fd34c-c437-456b-a467-a7ebdbe04cab",
   "metadata": {},
   "outputs": [
    {
     "data": {
      "text/plain": [
       "array([[7., 7.],\n",
       "       [7., 7.]])"
      ]
     },
     "execution_count": 126,
     "metadata": {},
     "output_type": "execute_result"
    }
   ],
   "source": [
    "e.dot(f)"
   ]
  },
  {
   "cell_type": "markdown",
   "id": "022be304-9bd9-4945-867d-371f3283ef74",
   "metadata": {},
   "source": [
    "### Comparision"
   ]
  },
  {
   "cell_type": "code",
   "execution_count": 127,
   "id": "9eda64bd-584f-43a9-b8c8-1e4b0f4fea56",
   "metadata": {},
   "outputs": [
    {
     "data": {
      "text/plain": [
       "array([[False,  True,  True],\n",
       "       [False, False, False]])"
      ]
     },
     "execution_count": 127,
     "metadata": {},
     "output_type": "execute_result"
    }
   ],
   "source": [
    "a == b #Element-wise comparison"
   ]
  },
  {
   "cell_type": "code",
   "execution_count": 128,
   "id": "7204a408-3799-4e44-8ac1-209d195a295d",
   "metadata": {},
   "outputs": [
    {
     "data": {
      "text/plain": [
       "array([ True, False, False])"
      ]
     },
     "execution_count": 128,
     "metadata": {},
     "output_type": "execute_result"
    }
   ],
   "source": [
    "a < 2 #Element-siwe comparison"
   ]
  },
  {
   "cell_type": "markdown",
   "id": "536afcea-1b73-4d72-9ecd-74ca32304032",
   "metadata": {},
   "source": [
    "### Aggregate Functions"
   ]
  },
  {
   "cell_type": "markdown",
   "id": "b39f9331-c37c-4899-8381-6129ff8baa89",
   "metadata": {},
   "source": [
    "a.sum() #Array-wise sum"
   ]
  },
  {
   "cell_type": "code",
   "execution_count": 129,
   "id": "84b63354-15f0-4816-a9a5-c9436e06fef3",
   "metadata": {},
   "outputs": [
    {
     "data": {
      "text/plain": [
       "np.int64(1)"
      ]
     },
     "execution_count": 129,
     "metadata": {},
     "output_type": "execute_result"
    }
   ],
   "source": [
    "a.min() #Array-wise minimum value"
   ]
  },
  {
   "cell_type": "code",
   "execution_count": 130,
   "id": "be38498c-4932-4de6-9534-b7eb4579f9f5",
   "metadata": {},
   "outputs": [
    {
     "data": {
      "text/plain": [
       "array([4., 5., 6.])"
      ]
     },
     "execution_count": 130,
     "metadata": {},
     "output_type": "execute_result"
    }
   ],
   "source": [
    "b.max(axis=0) #Maximum value of an array row"
   ]
  },
  {
   "cell_type": "code",
   "execution_count": 131,
   "id": "8484eb73-4aa2-41aa-8de7-e035b28af84f",
   "metadata": {},
   "outputs": [
    {
     "data": {
      "text/plain": [
       "array([[ 1.5,  3.5,  6.5],\n",
       "       [ 4. ,  9. , 15. ]])"
      ]
     },
     "execution_count": 131,
     "metadata": {},
     "output_type": "execute_result"
    }
   ],
   "source": [
    "b.cumsum(axis=1) #Cumulative sum of the elements"
   ]
  },
  {
   "cell_type": "code",
   "execution_count": 132,
   "id": "c69162c0-7cb6-43c0-951a-b64695613a00",
   "metadata": {},
   "outputs": [
    {
     "data": {
      "text/plain": [
       "np.float64(2.0)"
      ]
     },
     "execution_count": 132,
     "metadata": {},
     "output_type": "execute_result"
    }
   ],
   "source": [
    "a.mean() #Mean"
   ]
  },
  {
   "cell_type": "code",
   "execution_count": 133,
   "id": "998a979f-9c61-48e0-9738-87dd7e9386d2",
   "metadata": {},
   "outputs": [
    {
     "data": {
      "text/plain": [
       "np.float64(3.5)"
      ]
     },
     "execution_count": 133,
     "metadata": {},
     "output_type": "execute_result"
    }
   ],
   "source": [
    "np.median(b) #Median"
   ]
  },
  {
   "cell_type": "code",
   "execution_count": 134,
   "id": "9dba2b71-930d-4397-90cb-6fb36a527106",
   "metadata": {},
   "outputs": [
    {
     "data": {
      "text/plain": [
       "np.float64(1.0)"
      ]
     },
     "execution_count": 134,
     "metadata": {},
     "output_type": "execute_result"
    }
   ],
   "source": [
    "np.corrcoef(a) #Correlation coefficient"
   ]
  },
  {
   "cell_type": "code",
   "execution_count": 135,
   "id": "738d1a29-b38c-4d73-8389-a277eff8a6bf",
   "metadata": {},
   "outputs": [
    {
     "data": {
      "text/plain": [
       "np.float64(1.5920810978785667)"
      ]
     },
     "execution_count": 135,
     "metadata": {},
     "output_type": "execute_result"
    }
   ],
   "source": [
    "np.std(b) #Standard deviation"
   ]
  },
  {
   "cell_type": "markdown",
   "id": "eadb5cef-3dad-4d30-8e5c-b7e35ff05230",
   "metadata": {},
   "source": [
    "## Copying Array"
   ]
  },
  {
   "cell_type": "code",
   "execution_count": 136,
   "id": "c39a19f0-ed0c-496e-878b-a2c16022e0f9",
   "metadata": {},
   "outputs": [
    {
     "data": {
      "text/plain": [
       "array([1, 2, 3])"
      ]
     },
     "execution_count": 136,
     "metadata": {},
     "output_type": "execute_result"
    }
   ],
   "source": [
    "h = a.view() #Create a view of the array with the same data\n",
    "h"
   ]
  },
  {
   "cell_type": "code",
   "execution_count": 137,
   "id": "e6faedec-0136-4193-893b-df82dcebebd1",
   "metadata": {},
   "outputs": [
    {
     "data": {
      "text/plain": [
       "array([1, 2, 3])"
      ]
     },
     "execution_count": 137,
     "metadata": {},
     "output_type": "execute_result"
    }
   ],
   "source": [
    "np.copy(a) #Create a copy of the array"
   ]
  },
  {
   "cell_type": "code",
   "execution_count": 138,
   "id": "e4b18c28-de9a-4cbe-8ff9-66a2781235eb",
   "metadata": {},
   "outputs": [
    {
     "data": {
      "text/plain": [
       "array([1, 2, 3])"
      ]
     },
     "execution_count": 138,
     "metadata": {},
     "output_type": "execute_result"
    }
   ],
   "source": [
    "h = a.copy() #Create a deep copy of the array\n",
    "h"
   ]
  },
  {
   "cell_type": "markdown",
   "id": "f99fb636-e382-418c-91ae-2b33efb98da9",
   "metadata": {},
   "source": [
    "## Sorting Array"
   ]
  },
  {
   "cell_type": "code",
   "execution_count": 139,
   "id": "1513e9b7-7ae1-4b13-a344-fa7c6d7787d2",
   "metadata": {},
   "outputs": [
    {
     "data": {
      "text/plain": [
       "array([1, 2, 3])"
      ]
     },
     "execution_count": 139,
     "metadata": {},
     "output_type": "execute_result"
    }
   ],
   "source": [
    "a.sort() #Sort an array\n",
    "a"
   ]
  },
  {
   "cell_type": "code",
   "execution_count": 140,
   "id": "ce7e7ef9-d048-4631-8472-98a350338376",
   "metadata": {},
   "outputs": [
    {
     "data": {
      "text/plain": [
       "array([[1.5, 2. , 3. ],\n",
       "       [4. , 5. , 6. ]])"
      ]
     },
     "execution_count": 140,
     "metadata": {},
     "output_type": "execute_result"
    }
   ],
   "source": [
    "b.sort(axis=0) #Sort the elements of an array's axis\n",
    "b"
   ]
  },
  {
   "cell_type": "markdown",
   "id": "474a6511-ce55-4740-a9f5-f12a79fd8ae1",
   "metadata": {},
   "source": [
    "## Subsetting, Slicing, Indexing"
   ]
  },
  {
   "cell_type": "markdown",
   "id": "5dee55ad-2435-4325-95ac-cff31e499ffd",
   "metadata": {},
   "source": [
    "### Subsetting"
   ]
  },
  {
   "cell_type": "code",
   "execution_count": 141,
   "id": "68d885c2-2ffe-4b0e-8d4d-4854983e7410",
   "metadata": {},
   "outputs": [
    {
     "data": {
      "text/plain": [
       "np.int64(3)"
      ]
     },
     "execution_count": 141,
     "metadata": {},
     "output_type": "execute_result"
    }
   ],
   "source": [
    "a[2] #Select the element at the 2nd index"
   ]
  },
  {
   "cell_type": "code",
   "execution_count": 142,
   "id": "2040fbb7-4025-45bb-9ef0-7d3aa630948a",
   "metadata": {},
   "outputs": [
    {
     "data": {
      "text/plain": [
       "np.float64(6.0)"
      ]
     },
     "execution_count": 142,
     "metadata": {},
     "output_type": "execute_result"
    }
   ],
   "source": [
    "b[1,2] #Select the element at row 1 column 2 (equivalent to b[1][2])"
   ]
  },
  {
   "cell_type": "markdown",
   "id": "b5492d63-92af-4da2-8069-c9c7e62df897",
   "metadata": {},
   "source": [
    "### Slicing"
   ]
  },
  {
   "cell_type": "code",
   "execution_count": 143,
   "id": "c14203b0-c6b3-41bf-be47-436a392196a1",
   "metadata": {},
   "outputs": [
    {
     "data": {
      "text/plain": [
       "array([1, 2])"
      ]
     },
     "execution_count": 143,
     "metadata": {},
     "output_type": "execute_result"
    }
   ],
   "source": [
    "a[0:2] #Select items at index 0 and 1"
   ]
  },
  {
   "cell_type": "code",
   "execution_count": 144,
   "id": "b0b29285-c99b-4710-b8ee-1b57f4d7d92b",
   "metadata": {},
   "outputs": [
    {
     "data": {
      "text/plain": [
       "array([2., 5.])"
      ]
     },
     "execution_count": 144,
     "metadata": {},
     "output_type": "execute_result"
    }
   ],
   "source": [
    "b[0:2,1] #Select items at rows 0 and 1 in column 1"
   ]
  },
  {
   "cell_type": "code",
   "execution_count": 145,
   "id": "015bcfaa-4371-4e12-995b-a422f910d097",
   "metadata": {},
   "outputs": [
    {
     "data": {
      "text/plain": [
       "array([[1.5, 2. , 3. ]])"
      ]
     },
     "execution_count": 145,
     "metadata": {},
     "output_type": "execute_result"
    }
   ],
   "source": [
    "b[:1] #Select all items at row 0 (equivalent to b[0:1, :])"
   ]
  },
  {
   "cell_type": "code",
   "execution_count": 146,
   "id": "f76b53d5-910f-4bd0-8dd0-b78b4739b5bc",
   "metadata": {},
   "outputs": [
    {
     "data": {
      "text/plain": [
       "array([[3., 2., 1.],\n",
       "       [4., 5., 6.]])"
      ]
     },
     "execution_count": 146,
     "metadata": {},
     "output_type": "execute_result"
    }
   ],
   "source": [
    "c[1,...] #Same as [1,:,:]"
   ]
  },
  {
   "cell_type": "code",
   "execution_count": 147,
   "id": "2207045e-1809-4784-8f81-272d963fe33e",
   "metadata": {},
   "outputs": [
    {
     "data": {
      "text/plain": [
       "array([3, 2, 1])"
      ]
     },
     "execution_count": 147,
     "metadata": {},
     "output_type": "execute_result"
    }
   ],
   "source": [
    "a[ : :-1] #Reversed array a array([3, 2, 1])"
   ]
  },
  {
   "cell_type": "markdown",
   "id": "ac9aee40-8118-4d56-86e0-b2becfcee94f",
   "metadata": {},
   "source": [
    "### Boolean Indexing"
   ]
  },
  {
   "cell_type": "code",
   "execution_count": 148,
   "id": "09b85ce1-a7e7-4a9d-b8f8-7ffe1a84d11b",
   "metadata": {},
   "outputs": [
    {
     "data": {
      "text/plain": [
       "array([1])"
      ]
     },
     "execution_count": 148,
     "metadata": {},
     "output_type": "execute_result"
    }
   ],
   "source": [
    "a[a<2] #Select elements from a less than 2"
   ]
  },
  {
   "cell_type": "markdown",
   "id": "b43bdf06-a5b6-4d27-a171-557406f294ce",
   "metadata": {},
   "source": [
    "### Fancy Indexing"
   ]
  },
  {
   "cell_type": "code",
   "execution_count": 149,
   "id": "eb63d137-680e-4827-9430-087c73ede407",
   "metadata": {},
   "outputs": [
    {
     "data": {
      "text/plain": [
       "array([4. , 2. , 6. , 1.5])"
      ]
     },
     "execution_count": 149,
     "metadata": {},
     "output_type": "execute_result"
    }
   ],
   "source": [
    "b[[1, 0, 1, 0],[0, 1, 2, 0]] #Select elements (1,0),(0,1),(1,2) and (0,0)"
   ]
  },
  {
   "cell_type": "code",
   "execution_count": 150,
   "id": "5ae3fcb4-ed3a-4e91-8b19-aeed4b3de3f1",
   "metadata": {},
   "outputs": [
    {
     "data": {
      "text/plain": [
       "array([[4. , 5. , 6. , 4. ],\n",
       "       [1.5, 2. , 3. , 1.5],\n",
       "       [4. , 5. , 6. , 4. ],\n",
       "       [1.5, 2. , 3. , 1.5]])"
      ]
     },
     "execution_count": 150,
     "metadata": {},
     "output_type": "execute_result"
    }
   ],
   "source": [
    "b[[1, 0, 1, 0]][:,[0,1,2,0]] #Select a subset of the matrix’s rows and columns"
   ]
  },
  {
   "cell_type": "markdown",
   "id": "85558f18-2b86-4bd3-bbb6-5558b34d504f",
   "metadata": {},
   "source": [
    "## Array Manipulation"
   ]
  },
  {
   "cell_type": "markdown",
   "id": "14617220-2ad3-47a1-a84a-f80df008ca9b",
   "metadata": {},
   "source": [
    "### Transposing Array"
   ]
  },
  {
   "cell_type": "code",
   "execution_count": 151,
   "id": "965b8605-4b26-41dc-800c-b688e3d88d66",
   "metadata": {},
   "outputs": [
    {
     "data": {
      "text/plain": [
       "array([[1.5, 2. , 3. ],\n",
       "       [4. , 5. , 6. ]])"
      ]
     },
     "execution_count": 151,
     "metadata": {},
     "output_type": "execute_result"
    }
   ],
   "source": [
    "i = np.transpose(b) #Permute array dimensions\n",
    "i.T #Permute array dimensions"
   ]
  },
  {
   "cell_type": "markdown",
   "id": "11c62771-f5a7-4cb5-a5c5-867245df1b59",
   "metadata": {},
   "source": [
    "### Changing Array Shape"
   ]
  },
  {
   "cell_type": "code",
   "execution_count": 152,
   "id": "d48ec89f-b406-4af6-a27d-474bd868b65c",
   "metadata": {},
   "outputs": [
    {
     "data": {
      "text/plain": [
       "array([[-0.5,  0. ],\n",
       "       [ 0. , -3. ],\n",
       "       [-3. , -3. ]])"
      ]
     },
     "execution_count": 152,
     "metadata": {},
     "output_type": "execute_result"
    }
   ],
   "source": [
    "b.ravel() #Flatten the array\n",
    "g.reshape(3, -2) #Reshape, but don't change data"
   ]
  },
  {
   "cell_type": "markdown",
   "id": "7639ef6b-442e-4cfe-9ca5-45e1b2c3ebdd",
   "metadata": {},
   "source": [
    "### Adding/Removing Elements"
   ]
  },
  {
   "cell_type": "code",
   "execution_count": 153,
   "id": "32d6a6d1-e543-4cec-a55d-4507fb357131",
   "metadata": {},
   "outputs": [],
   "source": [
    "h.resize((2,6),refcheck=False) #Return a new array with shape (2,6)"
   ]
  },
  {
   "cell_type": "code",
   "execution_count": 154,
   "id": "408697ea-569f-4d49-a335-1fd01c6397be",
   "metadata": {},
   "outputs": [
    {
     "data": {
      "text/plain": [
       "array([ 1. ,  2. ,  3. ,  0. ,  0. ,  0. ,  0. ,  0. ,  0. ,  0. ,  0. ,\n",
       "        0. , -0.5,  0. ,  0. , -3. , -3. , -3. ])"
      ]
     },
     "execution_count": 154,
     "metadata": {},
     "output_type": "execute_result"
    }
   ],
   "source": [
    "np.append(h,g) #Append items to an array"
   ]
  },
  {
   "cell_type": "code",
   "execution_count": 155,
   "id": "56842447-7cf9-4902-b118-5214545ba566",
   "metadata": {},
   "outputs": [
    {
     "data": {
      "text/plain": [
       "array([1, 5, 2, 3])"
      ]
     },
     "execution_count": 155,
     "metadata": {},
     "output_type": "execute_result"
    }
   ],
   "source": [
    "np.insert(a, 1, 5) #Insert items in an array"
   ]
  },
  {
   "cell_type": "code",
   "execution_count": 156,
   "id": "da737cab-1c4e-40ae-8aba-98c6cd045569",
   "metadata": {},
   "outputs": [
    {
     "data": {
      "text/plain": [
       "array([1, 3])"
      ]
     },
     "execution_count": 156,
     "metadata": {},
     "output_type": "execute_result"
    }
   ],
   "source": [
    "np.delete(a,[1])"
   ]
  },
  {
   "cell_type": "markdown",
   "id": "debcc958-769c-4782-8889-531d30c8f7c9",
   "metadata": {},
   "source": [
    "### Combining Arrays"
   ]
  },
  {
   "cell_type": "code",
   "execution_count": 157,
   "id": "a88df917-a240-4286-9e7b-6dae01739553",
   "metadata": {},
   "outputs": [
    {
     "data": {
      "text/plain": [
       "array([ 1,  2,  3, 10, 15, 20])"
      ]
     },
     "execution_count": 157,
     "metadata": {},
     "output_type": "execute_result"
    }
   ],
   "source": [
    "np.concatenate((a,d),axis=0) #Concatenate arrays"
   ]
  },
  {
   "cell_type": "code",
   "execution_count": 158,
   "id": "a288c389-b244-493d-ba22-e5ad696cf2cc",
   "metadata": {},
   "outputs": [
    {
     "data": {
      "text/plain": [
       "array([[1. , 2. , 3. ],\n",
       "       [1.5, 2. , 3. ],\n",
       "       [4. , 5. , 6. ]])"
      ]
     },
     "execution_count": 158,
     "metadata": {},
     "output_type": "execute_result"
    }
   ],
   "source": [
    "np.vstack((a,b)) #Stack arrays vertically (row-wise)"
   ]
  },
  {
   "cell_type": "code",
   "execution_count": 159,
   "id": "7b2e9c38-3790-40d7-8174-4cf74e331b7b",
   "metadata": {},
   "outputs": [
    {
     "data": {
      "text/plain": [
       "array([[7., 7.],\n",
       "       [7., 7.],\n",
       "       [1., 0.],\n",
       "       [0., 1.]])"
      ]
     },
     "execution_count": 159,
     "metadata": {},
     "output_type": "execute_result"
    }
   ],
   "source": [
    "np.r_[e,f] #Stack arrays vertically (row-wise)"
   ]
  },
  {
   "cell_type": "code",
   "execution_count": 160,
   "id": "43376883-aaf9-4566-877c-d5cb9895c5b9",
   "metadata": {},
   "outputs": [
    {
     "data": {
      "text/plain": [
       "array([[7., 7., 1., 0.],\n",
       "       [7., 7., 0., 1.]])"
      ]
     },
     "execution_count": 160,
     "metadata": {},
     "output_type": "execute_result"
    }
   ],
   "source": [
    "np.hstack((e,f)) #Stack arrays horizontally (column-wise)"
   ]
  },
  {
   "cell_type": "code",
   "execution_count": 161,
   "id": "ccda546d-f01a-48fe-946b-e1e7ab9fb10a",
   "metadata": {},
   "outputs": [
    {
     "data": {
      "text/plain": [
       "array([[ 1, 10],\n",
       "       [ 2, 15],\n",
       "       [ 3, 20]])"
      ]
     },
     "execution_count": 161,
     "metadata": {},
     "output_type": "execute_result"
    }
   ],
   "source": [
    "np.column_stack((a,d)) #Create stacked column-wise arrays"
   ]
  },
  {
   "cell_type": "code",
   "execution_count": 162,
   "id": "b64a047a-51bb-4b61-bf6f-aeaa5a3f7110",
   "metadata": {},
   "outputs": [
    {
     "data": {
      "text/plain": [
       "array([[ 1, 10],\n",
       "       [ 2, 15],\n",
       "       [ 3, 20]])"
      ]
     },
     "execution_count": 162,
     "metadata": {},
     "output_type": "execute_result"
    }
   ],
   "source": [
    "np.c_[a,d] #Create stacked column-wise arrays"
   ]
  },
  {
   "cell_type": "markdown",
   "id": "080bf9ce-3d88-46cd-b389-f115dc69a5ae",
   "metadata": {},
   "source": [
    "### Splitting Arrays"
   ]
  },
  {
   "cell_type": "code",
   "execution_count": 163,
   "id": "926db036-447b-434e-98fa-ae8c0ee73ee2",
   "metadata": {},
   "outputs": [
    {
     "data": {
      "text/plain": [
       "[array([1]), array([2]), array([3])]"
      ]
     },
     "execution_count": 163,
     "metadata": {},
     "output_type": "execute_result"
    }
   ],
   "source": [
    "np.hsplit(a,3) #Split the array horizontally at the 3rd index"
   ]
  },
  {
   "cell_type": "code",
   "execution_count": 164,
   "id": "fb28ec80-225c-4c33-a3ef-e3188367241b",
   "metadata": {},
   "outputs": [
    {
     "data": {
      "text/plain": [
       "[array([[[1.5, 2. , 3. ],\n",
       "         [4. , 5. , 6. ]]]),\n",
       " array([[[3., 2., 1.],\n",
       "         [4., 5., 6.]]])]"
      ]
     },
     "execution_count": 164,
     "metadata": {},
     "output_type": "execute_result"
    }
   ],
   "source": [
    "np.vsplit(c,2) #Split the array vertically at the 2nd index"
   ]
  },
  {
   "cell_type": "markdown",
   "id": "acbffa4a-52a1-4e08-94b8-b31c11bc159b",
   "metadata": {},
   "source": [
    "## Mini Project – House Price Predictor\n",
    "\n",
    "In this project, we'll build a simple house price predictor using NumPy arrays. We'll:\n",
    "1. Create arrays for house sizes and prices\n",
    "2. Calculate mean and correlation\n",
    "3. Implement simple linear regression manually\n",
    "4. Make predictions for new house sizes"
   ]
  },
  {
   "cell_type": "code",
   "execution_count": 165,
   "id": "2602dbf5-c4d6-4cd0-8a54-afb22360250d",
   "metadata": {},
   "outputs": [
    {
     "name": "stdout",
     "output_type": "stream",
     "text": [
      "House Size Statistics:\n",
      "Mean: 1715.00 sq ft\n",
      "Standard Deviation: 396.42 sq ft\n",
      "\n",
      "House Price Statistics:\n",
      "Mean: $286.50k\n",
      "Standard Deviation: $57.10k\n",
      "\n",
      "Correlation between size and price: 0.7621\n",
      "\n",
      "Linear Regression Parameters:\n",
      "Slope (w): $0.11k per sq ft\n",
      "Intercept (b): $98.25k\n",
      "\n",
      "Predictions for new houses:\n",
      "House size: 1500 sq ft -> Predicted price: $262.90k\n",
      "House size: 2000 sq ft -> Predicted price: $317.78k\n",
      "House size: 3000 sq ft -> Predicted price: $427.55k\n"
     ]
    },
    {
     "data": {
      "image/png": "[encoded data removed]",
      "text/plain": [
       "<Figure size 1000x600 with 1 Axes>"
      ]
     },
     "metadata": {},
     "output_type": "display_data"
    }
   ],
   "source": [
    "# Create sample dataset of house sizes (in square feet) and prices (in thousands of dollars)\n",
    "house_sizes = np.array([1400, 1600, 1700, 1875, 1100, 1550, 2350, 2450, 1425, 1700])\n",
    "house_prices = np.array([245, 312, 279, 308, 199, 219, 405, 324, 319, 255])\n",
    "\n",
    "# Calculate basic statistics\n",
    "size_mean = np.mean(house_sizes)\n",
    "price_mean = np.mean(house_prices)\n",
    "size_std = np.std(house_sizes)\n",
    "price_std = np.std(house_prices)\n",
    "\n",
    "print(\"House Size Statistics:\")\n",
    "print(f\"Mean: {size_mean:.2f} sq ft\")\n",
    "print(f\"Standard Deviation: {size_std:.2f} sq ft\")\n",
    "print(\"\\nHouse Price Statistics:\")\n",
    "print(f\"Mean: ${price_mean:.2f}k\")\n",
    "print(f\"Standard Deviation: ${price_std:.2f}k\")\n",
    "\n",
    "# Calculate correlation between size and price\n",
    "correlation = np.corrcoef(house_sizes, house_prices)[0,1]\n",
    "print(f\"\\nCorrelation between size and price: {correlation:.4f}\")\n",
    "\n",
    "# Implement simple linear regression manually\n",
    "# Formula: w = Cov(x,y)/Var(x), b = y_mean - w * x_mean\n",
    "numerator = np.sum((house_sizes - size_mean) * (house_prices - price_mean))\n",
    "denominator = np.sum((house_sizes - size_mean)**2)\n",
    "w = numerator / denominator\n",
    "b = price_mean - w * size_mean\n",
    "\n",
    "print(\"\\nLinear Regression Parameters:\")\n",
    "print(f\"Slope (w): ${w:.2f}k per sq ft\")\n",
    "print(f\"Intercept (b): ${b:.2f}k\")\n",
    "\n",
    "# Make predictions for some new house sizes\n",
    "new_sizes = np.array([1500, 2000, 3000])\n",
    "predicted_prices = w * new_sizes + b\n",
    "\n",
    "print(\"\\nPredictions for new houses:\")\n",
    "for size, price in zip(new_sizes, predicted_prices):\n",
    "    print(f\"House size: {size} sq ft -> Predicted price: ${price:.2f}k\")\n",
    "\n",
    "# Visualize the data and regression line\n",
    "import matplotlib.pyplot as plt\n",
    "\n",
    "plt.figure(figsize=(10, 6))\n",
    "plt.scatter(house_sizes, house_prices, color='blue', alpha=0.5, label='Actual Prices')\n",
    "plt.plot([1000, 3000], [w*1000 + b, w*3000 + b], color='red', label='Regression Line')\n",
    "plt.scatter(new_sizes, predicted_prices, color='green', marker='*', s=100, label='Predictions')\n",
    "\n",
    "plt.xlabel('House Size (sq ft)')\n",
    "plt.ylabel('House Price ($k)')\n",
    "plt.title('House Price vs Size with Linear Regression')\n",
    "plt.legend()\n",
    "plt.grid(True, alpha=0.3)\n",
    "plt.show()"
   ]
  },
  {
   "cell_type": "code",
   "execution_count": 5,
   "id": "b4eafe40-cc36-4530-8535-c12068d16762",
   "metadata": {},
   "outputs": [
    {
     "name": "stdout",
     "output_type": "stream",
     "text": [
      "[2, 3, 4]\n",
      "[2, 4]\n",
      "[2, 4]\n"
     ]
    }
   ],
   "source": [
    "nums = [1, 2, 3, 4]\n",
    "for i in nums:\n",
    "    nums.remove(i)\n",
    "    print(nums)\n",
    "print(nums)"
   ]
  },
  {
   "cell_type": "code",
   "execution_count": null,
   "id": "6ed3182c-e23f-4f9b-af6b-aea3958b0658",
   "metadata": {},
   "outputs": [],
   "source": []
  }
 ],
 "metadata": {
  "kernelspec": {
   "display_name": "Python [conda env:base] *",
   "language": "python",
   "name": "conda-base-py"
  },
  "language_info": {
   "codemirror_mode": {
    "name": "ipython",
    "version": 3
   },
   "file_extension": ".py",
   "mimetype": "text/x-python",
   "name": "python",
   "nbconvert_exporter": "python",
   "pygments_lexer": "ipython3",
   "version": "3.13.5"
  }
 },
 "nbformat": 4,
 "nbformat_minor": 5
}
