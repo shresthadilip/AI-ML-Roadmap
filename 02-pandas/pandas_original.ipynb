{
 "cells": [
  {
   "cell_type": "markdown",
   "id": "ea531966-bdf1-4057-850f-f0f93dd668e2",
   "metadata": {},
   "source": [
    "# Pandas"
   ]
  },
  {
   "cell_type": "markdown",
   "id": "25408a84-5aec-42c1-8476-3424a3e68dc1",
   "metadata": {},
   "source": [
    "The Pandas library is built on NumPy and provides easy-to-use data structures and data analysis tools for the Python programming language.\n",
    "\n",
    "**Use the following import convention:**"
   ]
  },
  {
   "cell_type": "code",
   "execution_count": 1,
   "id": "62a3ed67-f942-47da-9306-5e6521b442fc",
   "metadata": {},
   "outputs": [],
   "source": [
    "import pandas as pd\n",
    "import numpy as np"
   ]
  },
  {
   "cell_type": "markdown",
   "id": "1d611e7c-3b88-43ab-b173-0968e6437561",
   "metadata": {},
   "source": [
    "## Pandas Data Structures"
   ]
  },
  {
   "cell_type": "markdown",
   "id": "58b7ed51-d56d-4cec-9fa1-e4699a52eff3",
   "metadata": {},
   "source": [
    "### Series\n",
    "\n",
    "A one dimensional labeled array capable of holding any data type "
   ]
  },
  {
   "cell_type": "code",
   "execution_count": 4,
   "id": "7c779e84-3db4-4cd6-ad16-c298ef6338df",
   "metadata": {},
   "outputs": [
    {
     "name": "stdout",
     "output_type": "stream",
     "text": [
      "Series:\n",
      " a    10\n",
      "b    20\n",
      "c    30\n",
      "d    40\n",
      "dtype: int64\n"
     ]
    }
   ],
   "source": [
    "# A Pandas Series is like a labeled 1D NumPy array\n",
    "s = pd.Series([10, 20, 30, 40], index=['a', 'b', 'c', 'd'])\n",
    "print(\"Series:\\n\", s)"
   ]
  },
  {
   "cell_type": "markdown",
   "id": "50dd0717-db32-4588-9ded-b8323a8ea051",
   "metadata": {},
   "source": [
    "### Dataframes\n",
    "\n",
    "A two dimensional labeled data structure with columns of potentially different types"
   ]
  },
  {
   "cell_type": "code",
   "execution_count": 96,
   "id": "5dcf33e3-bff8-4fa7-af05-b75393ba69e6",
   "metadata": {},
   "outputs": [
    {
     "name": "stdout",
     "output_type": "stream",
     "text": [
      "\n",
      "DataFrame:\n",
      "       Name  Age  Salary\n",
      "0    Alice   25   60000\n",
      "1      Bob   30   55000\n",
      "2  Charlie   35   40000\n"
     ]
    }
   ],
   "source": [
    "# A DataFrame is like a table (rows + columns)\n",
    "data = {\n",
    "    'Name': ['Alice', 'Bob', 'Charlie'],\n",
    "    'Age': [25, 30, 35],\n",
    "    'Salary': [60000, 55000, 40000]\n",
    "}\n",
    "df = pd.DataFrame(data)\n",
    "print(\"\\nDataFrame:\\n\", df)"
   ]
  },
  {
   "cell_type": "markdown",
   "id": "98a7cdb7-0c13-45e7-a36a-6dc97f83736a",
   "metadata": {},
   "source": [
    "## I/O (Reading & Writing Data)"
   ]
  },
  {
   "cell_type": "code",
   "execution_count": null,
   "id": "174cb66f-af05-4bde-8273-afbd22e7bbff",
   "metadata": {},
   "outputs": [],
   "source": [
    "# CSV\n",
    "df = pd.read_csv('file.csv', header=None, nrows=5)\n",
    "df.to_csv('myDataFrame.csv', index=False)"
   ]
  },
  {
   "cell_type": "code",
   "execution_count": null,
   "id": "62722ad9-d8af-4eeb-a7aa-26d0ae7c9083",
   "metadata": {},
   "outputs": [],
   "source": [
    "# Excel\n",
    "xlsx = pd.ExcelFile('file.xls')\n",
    "df1 = pd.read_excel(xlsx, 'Sheet1')\n",
    "df1.to_excel('output.xlsx', sheet_name='Sheet1', index=False)"
   ]
  },
  {
   "cell_type": "code",
   "execution_count": null,
   "id": "da3d1ec5-6f93-456b-8344-5f215a017e54",
   "metadata": {},
   "outputs": [],
   "source": [
    "# SQL\n",
    "from sqlalchemy import create_engine\n",
    "engine = create_engine('sqlite:///:memory:')\n",
    "df_sql = pd.read_sql('SELECT * FROM my_table', engine)\n",
    "df_sql.to_sql('myDf', engine, index=False)"
   ]
  },
  {
   "cell_type": "markdown",
   "id": "b10055be-ca90-4025-8b23-27c5fcf74285",
   "metadata": {},
   "source": [
    "## Selection/Indexing"
   ]
  },
  {
   "cell_type": "markdown",
   "id": "8ee8205e-fc46-466b-bd58-7896698516b6",
   "metadata": {},
   "source": [
    "**Basic Selection**"
   ]
  },
  {
   "cell_type": "markdown",
   "id": "e616bb97-a716-422f-8cfb-e752c79c2842",
   "metadata": {},
   "source": [
    "- Get element in Series:"
   ]
  },
  {
   "cell_type": "code",
   "execution_count": 16,
   "id": "f0af5609-1790-4c3e-832b-30dcf76fd712",
   "metadata": {},
   "outputs": [
    {
     "name": "stdout",
     "output_type": "stream",
     "text": [
      "Selected Value: 20\n"
     ]
    }
   ],
   "source": [
    "value = s['b']\n",
    "print(\"Selected Value:\", value)"
   ]
  },
  {
   "cell_type": "markdown",
   "id": "f5b7ef6e-3d5f-44f5-87cc-1e727b3c1548",
   "metadata": {},
   "source": [
    "- Subset of DataFrame:"
   ]
  },
  {
   "cell_type": "code",
   "execution_count": 20,
   "id": "a39ef07b-25a7-4067-8a49-eb5b35d9d142",
   "metadata": {},
   "outputs": [
    {
     "name": "stdout",
     "output_type": "stream",
     "text": [
      "Selected Subset:\n",
      "       Name  Age  Salary\n",
      "1      Bob   30   55000\n",
      "2  Charlie   35   60000\n"
     ]
    }
   ],
   "source": [
    "sub = df[1:]  # everything except first row\n",
    "print(\"Selected Subset:\\n\", sub)"
   ]
  },
  {
   "cell_type": "markdown",
   "id": "2b0ee6d4-50fb-4b87-a75f-219a91e3fa0a",
   "metadata": {},
   "source": [
    "**Selection By Position**"
   ]
  },
  {
   "cell_type": "code",
   "execution_count": 21,
   "id": "cccc3689-16d8-4926-9897-25aee76e75b4",
   "metadata": {},
   "outputs": [
    {
     "data": {
      "text/plain": [
       "'Alice'"
      ]
     },
     "execution_count": 21,
     "metadata": {},
     "output_type": "execute_result"
    }
   ],
   "source": [
    "df.iloc[0, 0]   # first row, first column  "
   ]
  },
  {
   "cell_type": "code",
   "execution_count": 22,
   "id": "ef051060-3ee2-4b7d-887e-8ca44789ccb0",
   "metadata": {},
   "outputs": [
    {
     "data": {
      "text/plain": [
       "'Alice'"
      ]
     },
     "execution_count": 22,
     "metadata": {},
     "output_type": "execute_result"
    }
   ],
   "source": [
    "df.iat[0, 0]    # slightly faster scalar access  "
   ]
  },
  {
   "cell_type": "markdown",
   "id": "dea35519-7585-4f9c-a856-bad9b275024f",
   "metadata": {},
   "source": [
    "**Selection By Lable**"
   ]
  },
  {
   "cell_type": "code",
   "execution_count": 23,
   "id": "a418d845-0896-4933-ab40-4b66d6427cf6",
   "metadata": {},
   "outputs": [
    {
     "data": {
      "text/plain": [
       "'Alice'"
      ]
     },
     "execution_count": 23,
     "metadata": {},
     "output_type": "execute_result"
    }
   ],
   "source": [
    "df.loc[0, 'Name']"
   ]
  },
  {
   "cell_type": "code",
   "execution_count": 24,
   "id": "6d4a4c32-0b1f-4076-b341-a5c37d2658bd",
   "metadata": {},
   "outputs": [
    {
     "data": {
      "text/plain": [
       "'Alice'"
      ]
     },
     "execution_count": 24,
     "metadata": {},
     "output_type": "execute_result"
    }
   ],
   "source": [
    "df.at[0, 'Name']"
   ]
  },
  {
   "cell_type": "markdown",
   "id": "d394fa9a-8b02-491a-93d5-033672b31c4d",
   "metadata": {},
   "source": [
    "**Boolean Indexing**\n",
    "\n",
    "Explanation of filter\n",
    "- `s<20` ==> This creates a Boolean mask — a Series of `True`/`False` values indicating which elements of `s` are less than 20.\n",
    "- `~(s<20)` ==> The tilde `~` is the **bitwise NOT** operator in Pandas (and NumPy).\n",
    "- `s[~(s<20)]` ==> Finally, this filters the Series `s` to include only the elements where the condition `~(s<20)` is True, i.e., where `s>=20`."
   ]
  },
  {
   "cell_type": "code",
   "execution_count": 39,
   "id": "1c7d8d51-689a-4d21-95a4-36a20f1b8aa7",
   "metadata": {},
   "outputs": [
    {
     "name": "stdout",
     "output_type": "stream",
     "text": [
      "Filtered series: \n",
      " b    20\n",
      "c    30\n",
      "d    40\n",
      "dtype: int64\n"
     ]
    }
   ],
   "source": [
    "# Series condition\n",
    "filtered_s = s[~(s < 20)] #\n",
    "print(\"Filtered series: \\n\", filtered_s)"
   ]
  },
  {
   "cell_type": "code",
   "execution_count": 40,
   "id": "e5a737bc-b21b-46ba-bef0-4f7161de7593",
   "metadata": {},
   "outputs": [
    {
     "name": "stdout",
     "output_type": "stream",
     "text": [
      "Filtered series: \n",
      " a    10\n",
      "d    40\n",
      "dtype: int64\n"
     ]
    }
   ],
   "source": [
    "# Combined conditions\n",
    "filtered_s2 = s[(s < 20) | (s > 30)]\n",
    "print(\"Filtered series: \\n\", filtered_s2)"
   ]
  },
  {
   "cell_type": "code",
   "execution_count": 41,
   "id": "660f9997-6d05-4c74-b0b7-a4212d49f900",
   "metadata": {},
   "outputs": [
    {
     "name": "stdout",
     "output_type": "stream",
     "text": [
      "Filtered dataframe: \n",
      "       Name  Age  Salary\n",
      "1      Bob   30   55000\n",
      "2  Charlie   35   60000\n"
     ]
    }
   ],
   "source": [
    "# DataFrame filtering\n",
    "df2 = df[df['Salary'] > 50_000]\n",
    "print(\"Filtered dataframe: \\n\", df2)"
   ]
  },
  {
   "cell_type": "markdown",
   "id": "812539f3-69e4-4cf1-9b86-616eb6adbbc5",
   "metadata": {},
   "source": [
    "**Setting Values**"
   ]
  },
  {
   "cell_type": "code",
   "execution_count": 43,
   "id": "ebd16729-81f3-48cc-8aa7-5c4b0d2e4114",
   "metadata": {},
   "outputs": [
    {
     "name": "stdout",
     "output_type": "stream",
     "text": [
      "Updated series: \n",
      " a    50\n",
      "b    20\n",
      "c    30\n",
      "d    40\n",
      "dtype: int64\n"
     ]
    }
   ],
   "source": [
    "s['a'] = 50\n",
    "print(\"Updated series: \\n\", s)"
   ]
  },
  {
   "cell_type": "markdown",
   "id": "fab01ac0-b578-499c-9ccf-3763b7641262",
   "metadata": {},
   "source": [
    "**Dropping**"
   ]
  },
  {
   "cell_type": "code",
   "execution_count": 9,
   "id": "8fac46eb-ca28-4c10-b3e3-ed5a3f11d39b",
   "metadata": {},
   "outputs": [
    {
     "data": {
      "text/plain": [
       "b    20\n",
       "d    40\n",
       "dtype: int64"
      ]
     },
     "execution_count": 9,
     "metadata": {},
     "output_type": "execute_result"
    }
   ],
   "source": [
    "s.drop(['a','c']) #Drop values from rows (axis=0) and returns new series"
   ]
  },
  {
   "cell_type": "code",
   "execution_count": 12,
   "id": "c8f0fb49-9b6f-4d34-8802-a54a3b027e26",
   "metadata": {},
   "outputs": [
    {
     "data": {
      "text/html": [
       "<div>\n",
       "<style scoped>\n",
       "    .dataframe tbody tr th:only-of-type {\n",
       "        vertical-align: middle;\n",
       "    }\n",
       "\n",
       "    .dataframe tbody tr th {\n",
       "        vertical-align: top;\n",
       "    }\n",
       "\n",
       "    .dataframe thead th {\n",
       "        text-align: right;\n",
       "    }\n",
       "</style>\n",
       "<table border=\"1\" class=\"dataframe\">\n",
       "  <thead>\n",
       "    <tr style=\"text-align: right;\">\n",
       "      <th></th>\n",
       "      <th>Age</th>\n",
       "      <th>Salary</th>\n",
       "    </tr>\n",
       "  </thead>\n",
       "  <tbody>\n",
       "    <tr>\n",
       "      <th>0</th>\n",
       "      <td>25</td>\n",
       "      <td>50000</td>\n",
       "    </tr>\n",
       "    <tr>\n",
       "      <th>1</th>\n",
       "      <td>30</td>\n",
       "      <td>55000</td>\n",
       "    </tr>\n",
       "    <tr>\n",
       "      <th>2</th>\n",
       "      <td>35</td>\n",
       "      <td>60000</td>\n",
       "    </tr>\n",
       "  </tbody>\n",
       "</table>\n",
       "</div>"
      ],
      "text/plain": [
       "   Age  Salary\n",
       "0   25   50000\n",
       "1   30   55000\n",
       "2   35   60000"
      ]
     },
     "execution_count": 12,
     "metadata": {},
     "output_type": "execute_result"
    }
   ],
   "source": [
    "df.drop('Name', axis=1) #Drop values from columns(axis=0)"
   ]
  },
  {
   "cell_type": "markdown",
   "id": "2cce9188-0a26-4f77-b9c9-fb48fecd6227",
   "metadata": {},
   "source": [
    "## Sorting & Ranking"
   ]
  },
  {
   "cell_type": "code",
   "execution_count": 44,
   "id": "dc11d4ee-3397-44e0-ac35-5e715df27aea",
   "metadata": {},
   "outputs": [
    {
     "name": "stdout",
     "output_type": "stream",
     "text": [
      "Sorted dataframe:\n",
      "       Name  Age  Salary\n",
      "0    Alice   25   50000\n",
      "1      Bob   30   55000\n",
      "2  Charlie   35   60000\n"
     ]
    }
   ],
   "source": [
    "df_sorted = df.sort_index()  # sort by row labels\n",
    "print(\"Sorted dataframe:\\n\",df_sorted);"
   ]
  },
  {
   "cell_type": "code",
   "execution_count": 48,
   "id": "6a091143-cbf2-4fdf-9212-39b6d5e3d1a9",
   "metadata": {},
   "outputs": [
    {
     "name": "stdout",
     "output_type": "stream",
     "text": [
      "Sorted dataframe:\n",
      "       Name  Age  Salary\n",
      "2  Charlie   35   40000\n",
      "1      Bob   30   55000\n",
      "0    Alice   25   60000\n"
     ]
    }
   ],
   "source": [
    "df_sorted2 = df.sort_values(by='Salary')  # sort by column values\n",
    "print(\"Sorted dataframe:\\n\",df_sorted2);"
   ]
  },
  {
   "cell_type": "code",
   "execution_count": 49,
   "id": "624cb784-ea11-46a4-a79d-2f2ab3180d27",
   "metadata": {},
   "outputs": [
    {
     "name": "stdout",
     "output_type": "stream",
     "text": [
      "Ranked dataframe:\n",
      "    Name  Age  Salary\n",
      "0   1.0  1.0     3.0\n",
      "1   2.0  2.0     2.0\n",
      "2   3.0  3.0     1.0\n"
     ]
    }
   ],
   "source": [
    "df_rank = df.rank()\n",
    "print(\"Ranked dataframe:\\n\",df_rank);"
   ]
  },
  {
   "cell_type": "markdown",
   "id": "2a97c084-c483-4532-88ae-3e57dad3884e",
   "metadata": {},
   "source": [
    "## Retrieving Info / Summary Stats"
   ]
  },
  {
   "cell_type": "code",
   "execution_count": 50,
   "id": "7afbb4ed-5501-416a-9a66-210ab4c57d9c",
   "metadata": {},
   "outputs": [
    {
     "data": {
      "text/plain": [
       "(3, 3)"
      ]
     },
     "execution_count": 50,
     "metadata": {},
     "output_type": "execute_result"
    }
   ],
   "source": [
    "df.shape             # (rows, columns)"
   ]
  },
  {
   "cell_type": "code",
   "execution_count": 51,
   "id": "1bc25425-174b-4ef0-b749-55acaff7bb6e",
   "metadata": {},
   "outputs": [
    {
     "data": {
      "text/plain": [
       "RangeIndex(start=0, stop=3, step=1)"
      ]
     },
     "execution_count": 51,
     "metadata": {},
     "output_type": "execute_result"
    }
   ],
   "source": [
    "df.index             # index labels"
   ]
  },
  {
   "cell_type": "code",
   "execution_count": null,
   "id": "8c6a46a3-55f8-4b9e-8536-e2862922f065",
   "metadata": {},
   "outputs": [],
   "source": [
    "df.columns           # column labels\n",
    "\n",
    "\n",
    "\n",
    "df.min(), df.max()\n",
    "df.idxmin(), df.idxmax()\n",
    "df.mean(), df.median()"
   ]
  },
  {
   "cell_type": "code",
   "execution_count": 56,
   "id": "5692300f-2953-4632-8d0a-08f591ec44f9",
   "metadata": {},
   "outputs": [
    {
     "name": "stdout",
     "output_type": "stream",
     "text": [
      "<class 'pandas.core.frame.DataFrame'>\n",
      "RangeIndex: 3 entries, 0 to 2\n",
      "Data columns (total 3 columns):\n",
      " #   Column  Non-Null Count  Dtype \n",
      "---  ------  --------------  ----- \n",
      " 0   Name    3 non-null      object\n",
      " 1   Age     3 non-null      int64 \n",
      " 2   Salary  3 non-null      int64 \n",
      "dtypes: int64(2), object(1)\n",
      "memory usage: 204.0+ bytes\n"
     ]
    }
   ],
   "source": [
    "df.info()            # summary"
   ]
  },
  {
   "cell_type": "code",
   "execution_count": 57,
   "id": "8ee30c13-776c-4025-8ffb-ee3a91d8ebac",
   "metadata": {},
   "outputs": [
    {
     "data": {
      "text/plain": [
       "Name      3\n",
       "Age       3\n",
       "Salary    3\n",
       "dtype: int64"
      ]
     },
     "execution_count": 57,
     "metadata": {},
     "output_type": "execute_result"
    }
   ],
   "source": [
    "df.count()           # non-NA count"
   ]
  },
  {
   "cell_type": "code",
   "execution_count": 58,
   "id": "d57414ef-d5b1-4de2-a60a-c62179b13faa",
   "metadata": {},
   "outputs": [
    {
     "data": {
      "text/html": [
       "<div>\n",
       "<style scoped>\n",
       "    .dataframe tbody tr th:only-of-type {\n",
       "        vertical-align: middle;\n",
       "    }\n",
       "\n",
       "    .dataframe tbody tr th {\n",
       "        vertical-align: top;\n",
       "    }\n",
       "\n",
       "    .dataframe thead th {\n",
       "        text-align: right;\n",
       "    }\n",
       "</style>\n",
       "<table border=\"1\" class=\"dataframe\">\n",
       "  <thead>\n",
       "    <tr style=\"text-align: right;\">\n",
       "      <th></th>\n",
       "      <th>Age</th>\n",
       "      <th>Salary</th>\n",
       "    </tr>\n",
       "  </thead>\n",
       "  <tbody>\n",
       "    <tr>\n",
       "      <th>count</th>\n",
       "      <td>3.0</td>\n",
       "      <td>3.000000</td>\n",
       "    </tr>\n",
       "    <tr>\n",
       "      <th>mean</th>\n",
       "      <td>30.0</td>\n",
       "      <td>51666.666667</td>\n",
       "    </tr>\n",
       "    <tr>\n",
       "      <th>std</th>\n",
       "      <td>5.0</td>\n",
       "      <td>10408.329997</td>\n",
       "    </tr>\n",
       "    <tr>\n",
       "      <th>min</th>\n",
       "      <td>25.0</td>\n",
       "      <td>40000.000000</td>\n",
       "    </tr>\n",
       "    <tr>\n",
       "      <th>25%</th>\n",
       "      <td>27.5</td>\n",
       "      <td>47500.000000</td>\n",
       "    </tr>\n",
       "    <tr>\n",
       "      <th>50%</th>\n",
       "      <td>30.0</td>\n",
       "      <td>55000.000000</td>\n",
       "    </tr>\n",
       "    <tr>\n",
       "      <th>75%</th>\n",
       "      <td>32.5</td>\n",
       "      <td>57500.000000</td>\n",
       "    </tr>\n",
       "    <tr>\n",
       "      <th>max</th>\n",
       "      <td>35.0</td>\n",
       "      <td>60000.000000</td>\n",
       "    </tr>\n",
       "  </tbody>\n",
       "</table>\n",
       "</div>"
      ],
      "text/plain": [
       "        Age        Salary\n",
       "count   3.0      3.000000\n",
       "mean   30.0  51666.666667\n",
       "std     5.0  10408.329997\n",
       "min    25.0  40000.000000\n",
       "25%    27.5  47500.000000\n",
       "50%    30.0  55000.000000\n",
       "75%    32.5  57500.000000\n",
       "max    35.0  60000.000000"
      ]
     },
     "execution_count": 58,
     "metadata": {},
     "output_type": "execute_result"
    }
   ],
   "source": [
    "df.describe()        # summary statistics"
   ]
  },
  {
   "cell_type": "code",
   "execution_count": 59,
   "id": "6de6c746-c443-44e4-87f5-9ae5d0053127",
   "metadata": {},
   "outputs": [
    {
     "data": {
      "text/plain": [
       "Name      AliceBobCharlie\n",
       "Age                    90\n",
       "Salary             155000\n",
       "dtype: object"
      ]
     },
     "execution_count": 59,
     "metadata": {},
     "output_type": "execute_result"
    }
   ],
   "source": [
    "df.sum()"
   ]
  },
  {
   "cell_type": "code",
   "execution_count": 60,
   "id": "847b7a19-87a9-43de-b21b-8f709530656b",
   "metadata": {},
   "outputs": [
    {
     "data": {
      "text/html": [
       "<div>\n",
       "<style scoped>\n",
       "    .dataframe tbody tr th:only-of-type {\n",
       "        vertical-align: middle;\n",
       "    }\n",
       "\n",
       "    .dataframe tbody tr th {\n",
       "        vertical-align: top;\n",
       "    }\n",
       "\n",
       "    .dataframe thead th {\n",
       "        text-align: right;\n",
       "    }\n",
       "</style>\n",
       "<table border=\"1\" class=\"dataframe\">\n",
       "  <thead>\n",
       "    <tr style=\"text-align: right;\">\n",
       "      <th></th>\n",
       "      <th>Name</th>\n",
       "      <th>Age</th>\n",
       "      <th>Salary</th>\n",
       "    </tr>\n",
       "  </thead>\n",
       "  <tbody>\n",
       "    <tr>\n",
       "      <th>0</th>\n",
       "      <td>Alice</td>\n",
       "      <td>25</td>\n",
       "      <td>60000</td>\n",
       "    </tr>\n",
       "    <tr>\n",
       "      <th>1</th>\n",
       "      <td>AliceBob</td>\n",
       "      <td>55</td>\n",
       "      <td>115000</td>\n",
       "    </tr>\n",
       "    <tr>\n",
       "      <th>2</th>\n",
       "      <td>AliceBobCharlie</td>\n",
       "      <td>90</td>\n",
       "      <td>155000</td>\n",
       "    </tr>\n",
       "  </tbody>\n",
       "</table>\n",
       "</div>"
      ],
      "text/plain": [
       "              Name  Age  Salary\n",
       "0            Alice   25   60000\n",
       "1         AliceBob   55  115000\n",
       "2  AliceBobCharlie   90  155000"
      ]
     },
     "execution_count": 60,
     "metadata": {},
     "output_type": "execute_result"
    }
   ],
   "source": [
    "df.cumsum()"
   ]
  },
  {
   "cell_type": "code",
   "execution_count": 61,
   "id": "fae6e40d-0c3a-4171-b51d-5ac0d8cdb77b",
   "metadata": {},
   "outputs": [
    {
     "data": {
      "text/plain": [
       "Name      Alice\n",
       "Age          25\n",
       "Salary    40000\n",
       "dtype: object"
      ]
     },
     "execution_count": 61,
     "metadata": {},
     "output_type": "execute_result"
    }
   ],
   "source": [
    "df.min()"
   ]
  },
  {
   "cell_type": "code",
   "execution_count": 62,
   "id": "c32d2e28-ed52-489d-a304-3feaee099ebb",
   "metadata": {},
   "outputs": [
    {
     "data": {
      "text/plain": [
       "Name      Charlie\n",
       "Age            35\n",
       "Salary      60000\n",
       "dtype: object"
      ]
     },
     "execution_count": 62,
     "metadata": {},
     "output_type": "execute_result"
    }
   ],
   "source": [
    "df.max()"
   ]
  },
  {
   "cell_type": "code",
   "execution_count": 63,
   "id": "97737dfc-9c7a-4896-b58a-5022640a2965",
   "metadata": {},
   "outputs": [
    {
     "data": {
      "text/plain": [
       "Name      0\n",
       "Age       0\n",
       "Salary    2\n",
       "dtype: int64"
      ]
     },
     "execution_count": 63,
     "metadata": {},
     "output_type": "execute_result"
    }
   ],
   "source": [
    "df.idxmin()"
   ]
  },
  {
   "cell_type": "code",
   "execution_count": 64,
   "id": "22c030a7-a3d3-4864-b663-21cf95990a28",
   "metadata": {},
   "outputs": [
    {
     "data": {
      "text/plain": [
       "Name      2\n",
       "Age       2\n",
       "Salary    0\n",
       "dtype: int64"
      ]
     },
     "execution_count": 64,
     "metadata": {},
     "output_type": "execute_result"
    }
   ],
   "source": [
    "df.idxmax()"
   ]
  },
  {
   "cell_type": "code",
   "execution_count": 69,
   "id": "8f368113-da22-4e77-b644-dfd5829c4879",
   "metadata": {},
   "outputs": [
    {
     "data": {
      "text/plain": [
       "Age          30.000000\n",
       "Salary    51666.666667\n",
       "dtype: float64"
      ]
     },
     "execution_count": 69,
     "metadata": {},
     "output_type": "execute_result"
    }
   ],
   "source": [
    "df_mean = df.drop('Name', axis=1)\n",
    "df_mean.mean()"
   ]
  },
  {
   "cell_type": "code",
   "execution_count": 67,
   "id": "fb18e2a2-9aa2-4cb4-90dd-5cced1866370",
   "metadata": {},
   "outputs": [
    {
     "data": {
      "text/plain": [
       "Age          30.0\n",
       "Salary    55000.0\n",
       "dtype: float64"
      ]
     },
     "execution_count": 67,
     "metadata": {},
     "output_type": "execute_result"
    }
   ],
   "source": [
    "df_median = df.drop('Name', axis=1)\n",
    "df_median.median()"
   ]
  },
  {
   "cell_type": "markdown",
   "id": "4fa53928-53ba-4775-a707-b4368a613f3f",
   "metadata": {},
   "source": [
    "## Applying Functions"
   ]
  },
  {
   "cell_type": "code",
   "execution_count": 75,
   "id": "8b999808-50d0-4554-9173-a327d9f68392",
   "metadata": {},
   "outputs": [
    {
     "data": {
      "text/html": [
       "<div>\n",
       "<style scoped>\n",
       "    .dataframe tbody tr th:only-of-type {\n",
       "        vertical-align: middle;\n",
       "    }\n",
       "\n",
       "    .dataframe tbody tr th {\n",
       "        vertical-align: top;\n",
       "    }\n",
       "\n",
       "    .dataframe thead th {\n",
       "        text-align: right;\n",
       "    }\n",
       "</style>\n",
       "<table border=\"1\" class=\"dataframe\">\n",
       "  <thead>\n",
       "    <tr style=\"text-align: right;\">\n",
       "      <th></th>\n",
       "      <th>Name</th>\n",
       "      <th>Age</th>\n",
       "      <th>Salary</th>\n",
       "    </tr>\n",
       "  </thead>\n",
       "  <tbody>\n",
       "    <tr>\n",
       "      <th>0</th>\n",
       "      <td>AliceAlice</td>\n",
       "      <td>50</td>\n",
       "      <td>120000</td>\n",
       "    </tr>\n",
       "    <tr>\n",
       "      <th>1</th>\n",
       "      <td>BobBob</td>\n",
       "      <td>60</td>\n",
       "      <td>110000</td>\n",
       "    </tr>\n",
       "    <tr>\n",
       "      <th>2</th>\n",
       "      <td>CharlieCharlie</td>\n",
       "      <td>70</td>\n",
       "      <td>80000</td>\n",
       "    </tr>\n",
       "  </tbody>\n",
       "</table>\n",
       "</div>"
      ],
      "text/plain": [
       "             Name  Age  Salary\n",
       "0      AliceAlice   50  120000\n",
       "1          BobBob   60  110000\n",
       "2  CharlieCharlie   70   80000"
      ]
     },
     "execution_count": 75,
     "metadata": {},
     "output_type": "execute_result"
    }
   ],
   "source": [
    "# Define a simple function\n",
    "f = lambda x: x * 2\n",
    "\n",
    "# Apply across DataFrame (row-wise or column-wise)\n",
    "df.apply(f)"
   ]
  },
  {
   "cell_type": "code",
   "execution_count": 77,
   "id": "5a1e5368-678f-433a-bd82-708309fc3a64",
   "metadata": {},
   "outputs": [
    {
     "name": "stdout",
     "output_type": "stream",
     "text": [
      "Updated dataframe: \n",
      "       Name  Age  Salary\n",
      "0    Alice   25  120000\n",
      "1      Bob   30  110000\n",
      "2  Charlie   35   80000\n"
     ]
    }
   ],
   "source": [
    "# Apply function only on selected column\n",
    "df['Salary'] = df['Salary'].apply(f)\n",
    "print(\"Updated dataframe: \\n\", df)"
   ]
  },
  {
   "cell_type": "code",
   "execution_count": 78,
   "id": "b754f46e-fb07-46af-bcc5-ed82b33d1a58",
   "metadata": {},
   "outputs": [
    {
     "name": "stdout",
     "output_type": "stream",
     "text": [
      "Updated dataframe: \n",
      "       Name  Age  Salary\n",
      "0    Alice   25  120000\n",
      "1   BobBob   60  220000\n",
      "2  Charlie   35   80000\n"
     ]
    }
   ],
   "source": [
    "df.loc[1] = df.loc[1].apply(f)\n",
    "print(\"Updated dataframe: \\n\", df)"
   ]
  },
  {
   "cell_type": "code",
   "execution_count": 74,
   "id": "3c42dc55-fe34-41bc-9343-f91b2c8a93f1",
   "metadata": {},
   "outputs": [
    {
     "data": {
      "text/html": [
       "<div>\n",
       "<style scoped>\n",
       "    .dataframe tbody tr th:only-of-type {\n",
       "        vertical-align: middle;\n",
       "    }\n",
       "\n",
       "    .dataframe tbody tr th {\n",
       "        vertical-align: top;\n",
       "    }\n",
       "\n",
       "    .dataframe thead th {\n",
       "        text-align: right;\n",
       "    }\n",
       "</style>\n",
       "<table border=\"1\" class=\"dataframe\">\n",
       "  <thead>\n",
       "    <tr style=\"text-align: right;\">\n",
       "      <th></th>\n",
       "      <th>Name</th>\n",
       "      <th>Age</th>\n",
       "      <th>Salary</th>\n",
       "    </tr>\n",
       "  </thead>\n",
       "  <tbody>\n",
       "    <tr>\n",
       "      <th>0</th>\n",
       "      <td>AliceAlice</td>\n",
       "      <td>50</td>\n",
       "      <td>120000</td>\n",
       "    </tr>\n",
       "    <tr>\n",
       "      <th>1</th>\n",
       "      <td>BobBob</td>\n",
       "      <td>60</td>\n",
       "      <td>110000</td>\n",
       "    </tr>\n",
       "    <tr>\n",
       "      <th>2</th>\n",
       "      <td>CharlieCharlie</td>\n",
       "      <td>70</td>\n",
       "      <td>80000</td>\n",
       "    </tr>\n",
       "  </tbody>\n",
       "</table>\n",
       "</div>"
      ],
      "text/plain": [
       "             Name  Age  Salary\n",
       "0      AliceAlice   50  120000\n",
       "1          BobBob   60  110000\n",
       "2  CharlieCharlie   70   80000"
      ]
     },
     "execution_count": 74,
     "metadata": {},
     "output_type": "execute_result"
    }
   ],
   "source": [
    "# Element-wise (if numeric / element-level)\n",
    "df_transform = df.drop('Name', axis=1)\n",
    "df_transform.transform(lambda x: x + 1)  # or use applymap"
   ]
  },
  {
   "cell_type": "markdown",
   "id": "54c69606-0681-431e-bec4-fcce0f6c67ae",
   "metadata": {},
   "source": [
    "## Alignment & Arithmetic with Fill Values"
   ]
  },
  {
   "cell_type": "code",
   "execution_count": 80,
   "id": "834c583b-51d1-401b-86f4-d689aa76c9a6",
   "metadata": {},
   "outputs": [
    {
     "name": "stdout",
     "output_type": "stream",
     "text": [
      "Result:\n",
      " a    10.0\n",
      "b     NaN\n",
      "c     5.0\n",
      "d     7.0\n",
      "dtype: float64\n",
      "Result:\n",
      " a    10.0\n",
      "b    -5.0\n",
      "c     5.0\n",
      "d     7.0\n",
      "dtype: float64\n",
      "Result:\n",
      " a   -4.0\n",
      "b   -7.0\n",
      "c    9.0\n",
      "d    1.0\n",
      "dtype: float64\n",
      "Result:\n",
      " a    0.428571\n",
      "b   -1.250000\n",
      "c   -3.500000\n",
      "d    1.333333\n",
      "dtype: float64\n",
      "Result:\n",
      " a    21.0\n",
      "b   -15.0\n",
      "c   -14.0\n",
      "d    12.0\n",
      "dtype: float64\n"
     ]
    }
   ],
   "source": [
    "s1 = pd.Series([3, -5, 7, 4], index=['a', 'b', 'c', 'd'])\n",
    "s2 = pd.Series([7, -2, 3], index=['a', 'c', 'd'])\n",
    "\n",
    "# Aligns automatically but missing values changes to NaN(Not a  Number)\n",
    "s_sum = s1 + s2\n",
    "print(\"Result:\\n\",s_sum)\n",
    "\n",
    "# Using fill_value\n",
    "s_add = s1.add(s2, fill_value=0)\n",
    "print(\"Result:\\n\",s_add)\n",
    "s_sub = s1.sub(s2, fill_value=2)\n",
    "print(\"Result:\\n\",s_sub)\n",
    "s_div = s1.div(s2, fill_value=4)\n",
    "print(\"Result:\\n\",s_div)\n",
    "s_mul = s1.mul(s2, fill_value=3)\n",
    "print(\"Result:\\n\",s_mul)\n"
   ]
  },
  {
   "cell_type": "markdown",
   "id": "5d7920e0-94e7-46a8-8003-1732b0623863",
   "metadata": {},
   "source": [
    "## Reshaping Data"
   ]
  },
  {
   "cell_type": "markdown",
   "id": "60236a5d-85bc-4513-aace-506656dedb8e",
   "metadata": {},
   "source": [
    "- **Pivot:** reshape data (spread rows into columns)"
   ]
  },
  {
   "cell_type": "code",
   "execution_count": 84,
   "id": "3e1aff65-5d99-46b7-a402-3fa2b7bcbcf7",
   "metadata": {},
   "outputs": [
    {
     "name": "stdout",
     "output_type": "stream",
     "text": [
      "Pivot dataframe:\n",
      " Type             a       b       c\n",
      "Date                              \n",
      "2025-03-01  11.432     NaN  20.784\n",
      "2025-03-02   1.303  13.031     NaN\n",
      "2025-03-03  99.906     NaN  20.784\n"
     ]
    }
   ],
   "source": [
    "data_adv = {\n",
    "    'Date': ['2025-03-01', '2025-03-02', '2025-03-01', '2025-03-03', '2025-03-02', '2025-03-03'],\n",
    "    'Type': ['a', 'b', 'c', 'a', 'a', 'c'],\n",
    "    'Value': [11.432, 13.031, 20.784, 99.906, 1.303, 20.784]\n",
    "}\n",
    "df_adv = pd.DataFrame(data_adv)\n",
    "df_p = df_adv.pivot(index='Date', columns='Type', values='Value')\n",
    "print(\"Pivot dataframe:\\n\", df_p)"
   ]
  },
  {
   "cell_type": "markdown",
   "id": "a175ce50-d996-4de6-8371-814beb7b4a12",
   "metadata": {},
   "source": [
    "- **Pivot Table**: like Excel pivot with aggregation"
   ]
  },
  {
   "cell_type": "code",
   "execution_count": 87,
   "id": "09b99e2f-8a7e-44a2-861a-b9d769f84df1",
   "metadata": {},
   "outputs": [
    {
     "name": "stdout",
     "output_type": "stream",
     "text": [
      "Pivot table dataframe:\n",
      " Type             a       b       c\n",
      "Date                              \n",
      "2025-03-01  11.432     NaN  20.784\n",
      "2025-03-02   1.303  13.031     NaN\n",
      "2025-03-03  99.906     NaN  20.784\n"
     ]
    }
   ],
   "source": [
    "df_pt = pd.pivot_table(df_adv, index='Date', columns='Type', values='Value', aggfunc='mean')\n",
    "print(\"Pivot table dataframe:\\n\", df_pt)"
   ]
  },
  {
   "cell_type": "markdown",
   "id": "9e1ff051-48cc-478f-9923-dfc2d1a5a6c3",
   "metadata": {},
   "source": [
    "- **Stack / Unstack:** compress / expand levels of index"
   ]
  },
  {
   "cell_type": "code",
   "execution_count": 90,
   "id": "ac4fb4a0-2e47-48e9-a3e5-83333fe90c49",
   "metadata": {},
   "outputs": [
    {
     "name": "stdout",
     "output_type": "stream",
     "text": [
      "Stacked dataframe:\n",
      " 0  Date     2025-03-01\n",
      "   Type              a\n",
      "   Value        11.432\n",
      "1  Date     2025-03-02\n",
      "   Type              b\n",
      "   Value        13.031\n",
      "2  Date     2025-03-01\n",
      "   Type              c\n",
      "   Value        20.784\n",
      "3  Date     2025-03-03\n",
      "   Type              a\n",
      "   Value        99.906\n",
      "4  Date     2025-03-02\n",
      "   Type              a\n",
      "   Value         1.303\n",
      "5  Date     2025-03-03\n",
      "   Type              c\n",
      "   Value        20.784\n",
      "dtype: object\n"
     ]
    }
   ],
   "source": [
    "stacked = df_adv.stack()\n",
    "print(\"Stacked dataframe:\\n\", stacked)"
   ]
  },
  {
   "cell_type": "code",
   "execution_count": 91,
   "id": "92babf61-f3b6-4334-9998-81012af375be",
   "metadata": {},
   "outputs": [
    {
     "name": "stdout",
     "output_type": "stream",
     "text": [
      "Unstacked dataframe:\n",
      "          Date Type   Value\n",
      "0  2025-03-01    a  11.432\n",
      "1  2025-03-02    b  13.031\n",
      "2  2025-03-01    c  20.784\n",
      "3  2025-03-03    a  99.906\n",
      "4  2025-03-02    a   1.303\n",
      "5  2025-03-03    c  20.784\n"
     ]
    }
   ],
   "source": [
    "unstacked = stacked.unstack()\n",
    "print(\"Unstacked dataframe:\\n\", unstacked)"
   ]
  },
  {
   "cell_type": "markdown",
   "id": "86a454b2-0d63-4afd-9bde-6734547c745c",
   "metadata": {},
   "source": [
    "- **Melt:** “unpivot” from wide to long format"
   ]
  },
  {
   "cell_type": "code",
   "execution_count": 93,
   "id": "fd97b939-4d76-4749-abf2-8f51200ec383",
   "metadata": {},
   "outputs": [
    {
     "name": "stdout",
     "output_type": "stream",
     "text": [
      "Melted dataframe:\n",
      "           Date    Var Observations\n",
      "0   2025-03-01   Type            a\n",
      "1   2025-03-02   Type            b\n",
      "2   2025-03-01   Type            c\n",
      "3   2025-03-03   Type            a\n",
      "4   2025-03-02   Type            a\n",
      "5   2025-03-03   Type            c\n",
      "6   2025-03-01  Value       11.432\n",
      "7   2025-03-02  Value       13.031\n",
      "8   2025-03-01  Value       20.784\n",
      "9   2025-03-03  Value       99.906\n",
      "10  2025-03-02  Value        1.303\n",
      "11  2025-03-03  Value       20.784\n"
     ]
    }
   ],
   "source": [
    "melted = pd.melt(df_adv, id_vars=['Date'], value_vars=['Type', 'Value'], var_name='Var', value_name='Observations')\n",
    "print(\"Melted dataframe:\\n\", melted)"
   ]
  },
  {
   "cell_type": "markdown",
   "id": "e8bc7949-3fa6-44ac-b32d-8d61a7615350",
   "metadata": {},
   "source": [
    "## Iteration"
   ]
  },
  {
   "cell_type": "code",
   "execution_count": 104,
   "id": "a9e38071-c59e-4a79-ad5e-c9a1e536dff5",
   "metadata": {},
   "outputs": [
    {
     "name": "stdout",
     "output_type": "stream",
     "text": [
      "Name 0      Alice\n",
      "1        Bob\n",
      "2    Charlie\n",
      "Name: Name, dtype: object\n",
      "Age 0    25\n",
      "1    30\n",
      "2    35\n",
      "Name: Age, dtype: int64\n",
      "Salary 0    60000\n",
      "1    55000\n",
      "2    40000\n",
      "Name: Salary, dtype: int64\n"
     ]
    }
   ],
   "source": [
    "# Iterate by column\n",
    "for col, series in df.items():\n",
    "    print(col, series)"
   ]
  },
  {
   "cell_type": "code",
   "execution_count": 100,
   "id": "6c95c35e-c119-4549-b55a-7b1db3eb3bb9",
   "metadata": {},
   "outputs": [
    {
     "name": "stdout",
     "output_type": "stream",
     "text": [
      "0 Alice 60000\n",
      "1 Bob 55000\n",
      "2 Charlie 40000\n"
     ]
    }
   ],
   "source": [
    "# Iterate by row\n",
    "for idx, row in df.iterrows():\n",
    "    print(idx, row['Name'], row['Salary'])"
   ]
  },
  {
   "cell_type": "markdown",
   "id": "5425375a-74e8-4986-bf46-7320a3aaa529",
   "metadata": {},
   "source": [
    "## Handling Missing Data (Advanced)"
   ]
  },
  {
   "cell_type": "code",
   "execution_count": null,
   "id": "c01d0f6a-8618-4e57-bd8e-39a73c055f0e",
   "metadata": {},
   "outputs": [],
   "source": [
    "df3 = df.dropna()                     # drop rows with NA  \n",
    "df3 = df3.fillna(df3.mean())          # fill using mean  \n",
    "df2 = df2.replace(\"a\", \"f\")            # replace specific values  "
   ]
  },
  {
   "cell_type": "markdown",
   "id": "c808a18e-ef3f-486a-9979-5f791b737fd4",
   "metadata": {},
   "source": [
    "## Advanced Indexing & Subsetting"
   ]
  },
  {
   "cell_type": "code",
   "execution_count": null,
   "id": "b3b702c7-d636-49c6-8590-40394fa49294",
   "metadata": {},
   "outputs": [],
   "source": [
    "# Select columns where any value > 1\n",
    "df3 = df3.loc[:, (df3 > 1).any()]\n",
    "\n",
    "# Select columns with any nulls\n",
    "df3 = df3.loc[:, df3.isnull().any()]\n",
    "\n",
    "# Using isin\n",
    "df_filtered = df[df['Country'].isin(['Belgium', 'India'])]\n",
    "\n",
    "# Using query (string expression)\n",
    "df_query = df.query('Population > 1000000000')\n"
   ]
  },
  {
   "cell_type": "markdown",
   "id": "7b2d9f8d-91ec-4d24-9329-6b621d36c050",
   "metadata": {},
   "source": [
    "## Index Management"
   ]
  },
  {
   "cell_type": "code",
   "execution_count": null,
   "id": "fd4e092b-8536-4850-b452-514a05a23a38",
   "metadata": {},
   "outputs": [],
   "source": [
    "# Set / reset index\n",
    "df2 = df.set_index('Country')\n",
    "df2_reset = df2.reset_index()\n",
    "\n",
    "# Rename index / columns\n",
    "df2 = df2.rename(index=str, columns={'Country':'cntry', 'Population':'pop'})\n"
   ]
  },
  {
   "cell_type": "markdown",
   "id": "3885c630-2fe1-4fc3-a551-30408afad1b7",
   "metadata": {},
   "source": [
    "## Reindexing"
   ]
  },
  {
   "cell_type": "code",
   "execution_count": null,
   "id": "ded16a0f-40ea-4d43-9035-33e845f7ccf5",
   "metadata": {},
   "outputs": [],
   "source": [
    "s2 = s.reindex(['a','c','d','e','b'])\n",
    "# Forward fill\n",
    "s_ffill = s.reindex(range(4), method='ffill')\n",
    "# Backward fill\n",
    "s_bfill = s.reindex(range(5), method='bfill')"
   ]
  },
  {
   "cell_type": "markdown",
   "id": "fcee4d68-2509-44ee-a727-08e66717a153",
   "metadata": {},
   "source": [
    "## Multi-Index / Hierarchical Indexing"
   ]
  },
  {
   "cell_type": "code",
   "execution_count": null,
   "id": "19491813-e60d-4d9e-be29-84f372795793",
   "metadata": {},
   "outputs": [],
   "source": [
    "arrays = [np.array([1, 2, 3]), np.array([5, 4, 3])]\n",
    "tuples = list(zip(*arrays))\n",
    "index = pd.MultiIndex.from_tuples(tuples, names=['first', 'second'])\n",
    "df_multi = pd.DataFrame(np.random.rand(3, 2), index=index)\n",
    "\n",
    "# You can also set multi-index from columns\n",
    "df2 = df.set_index(['Date', 'Type'])"
   ]
  },
  {
   "cell_type": "markdown",
   "id": "26c30f1d-2525-45d4-bb57-5b7548d0bc05",
   "metadata": {},
   "source": [
    "## Duplicate Data"
   ]
  },
  {
   "cell_type": "code",
   "execution_count": null,
   "id": "1ce98bc2-0396-49b6-9ba3-032d16e3655d",
   "metadata": {},
   "outputs": [],
   "source": [
    "s3 = s.unique()                      # unique values\n",
    "dup_mask = df2.duplicated('Type')     # boolean mask for duplicates\n",
    "df_no_dup = df2.drop_duplicates('Type', keep='last')\n",
    "idx_dup = df.index.duplicated()       # index duplicates"
   ]
  },
  {
   "cell_type": "markdown",
   "id": "3a2bc934-260d-4053-9cb3-676ea3b9a45e",
   "metadata": {},
   "source": [
    "## Grouping / Aggregation / Transformation"
   ]
  },
  {
   "cell_type": "code",
   "execution_count": null,
   "id": "dcd0435e-4701-4ee1-a69a-53038215b9e7",
   "metadata": {},
   "outputs": [],
   "source": [
    "# Aggregation by multiple levels\n",
    "agg_df = df2.groupby(['Date', 'Type']).mean()\n",
    "\n",
    "# Transformation\n",
    "custom_sum = lambda x: (x + x % 2)\n",
    "transformed = df2.groupby(level=0).transform(custom_sum)\n",
    "\n",
    "# Using agg with custom functions\n",
    "agg_custom = df2.groupby(level=0).agg({\n",
    "    'a': lambda x: sum(x)/len(x),\n",
    "    'b': np.sum\n",
    "})"
   ]
  },
  {
   "cell_type": "markdown",
   "id": "fc48dcb5-0623-4a30-8df7-81390d72f137",
   "metadata": {},
   "source": [
    "## Combining DataFrames"
   ]
  },
  {
   "cell_type": "markdown",
   "id": "47ab562f-fa64-4399-acbd-ddc7be597bc8",
   "metadata": {},
   "source": [
    "- **Merge / Join:** different merge strategies"
   ]
  },
  {
   "cell_type": "code",
   "execution_count": null,
   "id": "c79407aa-9253-4f31-8d39-47d986acf0b5",
   "metadata": {},
   "outputs": [],
   "source": [
    "df_merged_left = pd.merge(data1, data2, how='left', on='X1')\n",
    "df_merged_inner = pd.merge(data1, data2, how='inner', on='X1')\n",
    "df_merged_outer = pd.merge(data1, data2, how='outer', on='X1')"
   ]
  },
  {
   "cell_type": "markdown",
   "id": "34e356f3-b0a9-4199-bcb7-2a4d3c43ff4a",
   "metadata": {},
   "source": [
    "- **Join:** using DataFrame .join()"
   ]
  },
  {
   "cell_type": "code",
   "execution_count": null,
   "id": "0e0c68b3-1da1-45c4-8e93-cf8797af14a9",
   "metadata": {},
   "outputs": [],
   "source": [
    "joined = data1.join(data2, how='right')"
   ]
  },
  {
   "cell_type": "markdown",
   "id": "f4f82623-de98-48ed-bab6-44d97d472e84",
   "metadata": {},
   "source": [
    "- **Concatenate:** stacking DataFrames / Series"
   ]
  },
  {
   "cell_type": "code",
   "execution_count": null,
   "id": "bd37bee0-75b9-4763-a2eb-3b0dbd4ec9dd",
   "metadata": {},
   "outputs": [],
   "source": [
    "joined = data1.join(data2, how='right')"
   ]
  },
  {
   "cell_type": "markdown",
   "id": "ab2b5f5f-ecdc-4461-9209-b427b3855fc3",
   "metadata": {},
   "source": [
    "## Working with Dates / Time Series"
   ]
  },
  {
   "cell_type": "code",
   "execution_count": 107,
   "id": "eea2c1bb-293d-48f2-be6b-621ecdce604c",
   "metadata": {},
   "outputs": [
    {
     "ename": "KeyError",
     "evalue": "'Date'",
     "output_type": "error",
     "traceback": [
      "\u001b[1;31m---------------------------------------------------------------------------\u001b[0m",
      "\u001b[1;31mKeyError\u001b[0m                                  Traceback (most recent call last)",
      "File \u001b[1;32m~\\anaconda3\\Lib\\site-packages\\pandas\\core\\indexes\\base.py:3805\u001b[0m, in \u001b[0;36mIndex.get_loc\u001b[1;34m(self, key)\u001b[0m\n\u001b[0;32m   3804\u001b[0m \u001b[38;5;28;01mtry\u001b[39;00m:\n\u001b[1;32m-> 3805\u001b[0m     \u001b[38;5;28;01mreturn\u001b[39;00m \u001b[38;5;28mself\u001b[39m\u001b[38;5;241m.\u001b[39m_engine\u001b[38;5;241m.\u001b[39mget_loc(casted_key)\n\u001b[0;32m   3806\u001b[0m \u001b[38;5;28;01mexcept\u001b[39;00m \u001b[38;5;167;01mKeyError\u001b[39;00m \u001b[38;5;28;01mas\u001b[39;00m err:\n",
      "File \u001b[1;32mindex.pyx:167\u001b[0m, in \u001b[0;36mpandas._libs.index.IndexEngine.get_loc\u001b[1;34m()\u001b[0m\n",
      "File \u001b[1;32mindex.pyx:196\u001b[0m, in \u001b[0;36mpandas._libs.index.IndexEngine.get_loc\u001b[1;34m()\u001b[0m\n",
      "File \u001b[1;32mpandas\\\\_libs\\\\hashtable_class_helper.pxi:7081\u001b[0m, in \u001b[0;36mpandas._libs.hashtable.PyObjectHashTable.get_item\u001b[1;34m()\u001b[0m\n",
      "File \u001b[1;32mpandas\\\\_libs\\\\hashtable_class_helper.pxi:7089\u001b[0m, in \u001b[0;36mpandas._libs.hashtable.PyObjectHashTable.get_item\u001b[1;34m()\u001b[0m\n",
      "\u001b[1;31mKeyError\u001b[0m: 'Date'",
      "\nThe above exception was the direct cause of the following exception:\n",
      "\u001b[1;31mKeyError\u001b[0m                                  Traceback (most recent call last)",
      "Cell \u001b[1;32mIn[107], line 2\u001b[0m\n\u001b[0;32m      1\u001b[0m \u001b[38;5;66;03m# Convert to datetime\u001b[39;00m\n\u001b[1;32m----> 2\u001b[0m df2[\u001b[38;5;124m'\u001b[39m\u001b[38;5;124mDate\u001b[39m\u001b[38;5;124m'\u001b[39m] \u001b[38;5;241m=\u001b[39m pd\u001b[38;5;241m.\u001b[39mto_datetime(df2[\u001b[38;5;124m'\u001b[39m\u001b[38;5;124mDate\u001b[39m\u001b[38;5;124m'\u001b[39m])\n\u001b[0;32m      4\u001b[0m \u001b[38;5;66;03m# Create a date range\u001b[39;00m\n\u001b[0;32m      5\u001b[0m df2[\u001b[38;5;124m'\u001b[39m\u001b[38;5;124mDate\u001b[39m\u001b[38;5;124m'\u001b[39m] \u001b[38;5;241m=\u001b[39m pd\u001b[38;5;241m.\u001b[39mdate_range(\u001b[38;5;124m'\u001b[39m\u001b[38;5;124m2000-01-01\u001b[39m\u001b[38;5;124m'\u001b[39m, periods\u001b[38;5;241m=\u001b[39m\u001b[38;5;28mlen\u001b[39m(df2), freq\u001b[38;5;241m=\u001b[39m\u001b[38;5;124m'\u001b[39m\u001b[38;5;124mM\u001b[39m\u001b[38;5;124m'\u001b[39m)\n",
      "File \u001b[1;32m~\\anaconda3\\Lib\\site-packages\\pandas\\core\\frame.py:4102\u001b[0m, in \u001b[0;36mDataFrame.__getitem__\u001b[1;34m(self, key)\u001b[0m\n\u001b[0;32m   4100\u001b[0m \u001b[38;5;28;01mif\u001b[39;00m \u001b[38;5;28mself\u001b[39m\u001b[38;5;241m.\u001b[39mcolumns\u001b[38;5;241m.\u001b[39mnlevels \u001b[38;5;241m>\u001b[39m \u001b[38;5;241m1\u001b[39m:\n\u001b[0;32m   4101\u001b[0m     \u001b[38;5;28;01mreturn\u001b[39;00m \u001b[38;5;28mself\u001b[39m\u001b[38;5;241m.\u001b[39m_getitem_multilevel(key)\n\u001b[1;32m-> 4102\u001b[0m indexer \u001b[38;5;241m=\u001b[39m \u001b[38;5;28mself\u001b[39m\u001b[38;5;241m.\u001b[39mcolumns\u001b[38;5;241m.\u001b[39mget_loc(key)\n\u001b[0;32m   4103\u001b[0m \u001b[38;5;28;01mif\u001b[39;00m is_integer(indexer):\n\u001b[0;32m   4104\u001b[0m     indexer \u001b[38;5;241m=\u001b[39m [indexer]\n",
      "File \u001b[1;32m~\\anaconda3\\Lib\\site-packages\\pandas\\core\\indexes\\base.py:3812\u001b[0m, in \u001b[0;36mIndex.get_loc\u001b[1;34m(self, key)\u001b[0m\n\u001b[0;32m   3807\u001b[0m     \u001b[38;5;28;01mif\u001b[39;00m \u001b[38;5;28misinstance\u001b[39m(casted_key, \u001b[38;5;28mslice\u001b[39m) \u001b[38;5;129;01mor\u001b[39;00m (\n\u001b[0;32m   3808\u001b[0m         \u001b[38;5;28misinstance\u001b[39m(casted_key, abc\u001b[38;5;241m.\u001b[39mIterable)\n\u001b[0;32m   3809\u001b[0m         \u001b[38;5;129;01mand\u001b[39;00m \u001b[38;5;28many\u001b[39m(\u001b[38;5;28misinstance\u001b[39m(x, \u001b[38;5;28mslice\u001b[39m) \u001b[38;5;28;01mfor\u001b[39;00m x \u001b[38;5;129;01min\u001b[39;00m casted_key)\n\u001b[0;32m   3810\u001b[0m     ):\n\u001b[0;32m   3811\u001b[0m         \u001b[38;5;28;01mraise\u001b[39;00m InvalidIndexError(key)\n\u001b[1;32m-> 3812\u001b[0m     \u001b[38;5;28;01mraise\u001b[39;00m \u001b[38;5;167;01mKeyError\u001b[39;00m(key) \u001b[38;5;28;01mfrom\u001b[39;00m\u001b[38;5;250m \u001b[39m\u001b[38;5;21;01merr\u001b[39;00m\n\u001b[0;32m   3813\u001b[0m \u001b[38;5;28;01mexcept\u001b[39;00m \u001b[38;5;167;01mTypeError\u001b[39;00m:\n\u001b[0;32m   3814\u001b[0m     \u001b[38;5;66;03m# If we have a listlike key, _check_indexing_error will raise\u001b[39;00m\n\u001b[0;32m   3815\u001b[0m     \u001b[38;5;66;03m#  InvalidIndexError. Otherwise we fall through and re-raise\u001b[39;00m\n\u001b[0;32m   3816\u001b[0m     \u001b[38;5;66;03m#  the TypeError.\u001b[39;00m\n\u001b[0;32m   3817\u001b[0m     \u001b[38;5;28mself\u001b[39m\u001b[38;5;241m.\u001b[39m_check_indexing_error(key)\n",
      "\u001b[1;31mKeyError\u001b[0m: 'Date'"
     ]
    }
   ],
   "source": [
    "# Convert to datetime\n",
    "df2['Date'] = pd.to_datetime(df2['Date'])\n",
    "\n",
    "# Create a date range\n",
    "df2['Date'] = pd.date_range('2000-01-01', periods=len(df2), freq='M')"
   ]
  },
  {
   "cell_type": "markdown",
   "id": "2bdb6ebe-d184-46ef-8cec-6917bb5635de",
   "metadata": {},
   "source": [
    "## Visualization (with Pandas)"
   ]
  },
  {
   "cell_type": "code",
   "execution_count": 106,
   "id": "6134c14d-e0b7-4487-a661-177aeb3bce00",
   "metadata": {},
   "outputs": [
    {
     "data": {
      "image/png": "[encoded data removed]",
      "text/plain": [
       "<Figure size 640x480 with 1 Axes>"
      ]
     },
     "metadata": {},
     "output_type": "display_data"
    },
    {
     "data": {
      "image/png": "[encoded data removed]",
      "text/plain": [
       "<Figure size 640x480 with 1 Axes>"
      ]
     },
     "metadata": {},
     "output_type": "display_data"
    }
   ],
   "source": [
    "import matplotlib.pyplot as plt\n",
    "\n",
    "s.plot()\n",
    "plt.show()\n",
    "\n",
    "df2.plot()     # DataFrame plot\n",
    "plt.show()\n"
   ]
  },
  {
   "cell_type": "markdown",
   "id": "8079b8bd-89a6-4395-9f98-c725e1745105",
   "metadata": {
    "jp-MarkdownHeadingCollapsed": true
   },
   "source": [
    "## Asking For Help"
   ]
  },
  {
   "cell_type": "code",
   "execution_count": 15,
   "id": "df1f370d-9779-49f4-bd8b-ab6dd72b4a26",
   "metadata": {},
   "outputs": [
    {
     "name": "stdout",
     "output_type": "stream",
     "text": [
      "Help on property:\n",
      "\n",
      "loc\n",
      "    Access a group of rows and columns by label(s) or a boolean array.\n",
      "\n",
      "    ``.loc[]`` is primarily label based, but may also be used with a\n",
      "    boolean array.\n",
      "\n",
      "    Allowed inputs are:\n",
      "\n",
      "    - A single label, e.g. ``5`` or ``'a'``, (note that ``5`` is\n",
      "      interpreted as a *label* of the index, and **never** as an\n",
      "      integer position along the index).\n",
      "    - A list or array of labels, e.g. ``['a', 'b', 'c']``.\n",
      "    - A slice object with labels, e.g. ``'a':'f'``.\n",
      "\n",
      "      .. warning:: Note that contrary to usual python slices, **both** the\n",
      "          start and the stop are included\n",
      "\n",
      "    - A boolean array of the same length as the axis being sliced,\n",
      "      e.g. ``[True, False, True]``.\n",
      "    - An alignable boolean Series. The index of the key will be aligned before\n",
      "      masking.\n",
      "    - An alignable Index. The Index of the returned selection will be the input.\n",
      "    - A ``callable`` function with one argument (the calling Series or\n",
      "      DataFrame) and that returns valid output for indexing (one of the above)\n",
      "\n",
      "    See more at :ref:`Selection by Label <indexing.label>`.\n",
      "\n",
      "    Raises\n",
      "    ------\n",
      "    KeyError\n",
      "        If any items are not found.\n",
      "    IndexingError\n",
      "        If an indexed key is passed and its index is unalignable to the frame index.\n",
      "\n",
      "    See Also\n",
      "    --------\n",
      "    DataFrame.at : Access a single value for a row/column label pair.\n",
      "    DataFrame.iloc : Access group of rows and columns by integer position(s).\n",
      "    DataFrame.xs : Returns a cross-section (row(s) or column(s)) from the\n",
      "                   Series/DataFrame.\n",
      "    Series.loc : Access group of values using labels.\n",
      "\n",
      "    Examples\n",
      "    --------\n",
      "    **Getting values**\n",
      "\n",
      "    >>> df = pd.DataFrame([[1, 2], [4, 5], [7, 8]],\n",
      "    ...                   index=['cobra', 'viper', 'sidewinder'],\n",
      "    ...                   columns=['max_speed', 'shield'])\n",
      "    >>> df\n",
      "                max_speed  shield\n",
      "    cobra               1       2\n",
      "    viper               4       5\n",
      "    sidewinder          7       8\n",
      "\n",
      "    Single label. Note this returns the row as a Series.\n",
      "\n",
      "    >>> df.loc['viper']\n",
      "    max_speed    4\n",
      "    shield       5\n",
      "    Name: viper, dtype: int64\n",
      "\n",
      "    List of labels. Note using ``[[]]`` returns a DataFrame.\n",
      "\n",
      "    >>> df.loc[['viper', 'sidewinder']]\n",
      "                max_speed  shield\n",
      "    viper               4       5\n",
      "    sidewinder          7       8\n",
      "\n",
      "    Single label for row and column\n",
      "\n",
      "    >>> df.loc['cobra', 'shield']\n",
      "    2\n",
      "\n",
      "    Slice with labels for row and single label for column. As mentioned\n",
      "    above, note that both the start and stop of the slice are included.\n",
      "\n",
      "    >>> df.loc['cobra':'viper', 'max_speed']\n",
      "    cobra    1\n",
      "    viper    4\n",
      "    Name: max_speed, dtype: int64\n",
      "\n",
      "    Boolean list with the same length as the row axis\n",
      "\n",
      "    >>> df.loc[[False, False, True]]\n",
      "                max_speed  shield\n",
      "    sidewinder          7       8\n",
      "\n",
      "    Alignable boolean Series:\n",
      "\n",
      "    >>> df.loc[pd.Series([False, True, False],\n",
      "    ...                  index=['viper', 'sidewinder', 'cobra'])]\n",
      "                         max_speed  shield\n",
      "    sidewinder          7       8\n",
      "\n",
      "    Index (same behavior as ``df.reindex``)\n",
      "\n",
      "    >>> df.loc[pd.Index([\"cobra\", \"viper\"], name=\"foo\")]\n",
      "           max_speed  shield\n",
      "    foo\n",
      "    cobra          1       2\n",
      "    viper          4       5\n",
      "\n",
      "    Conditional that returns a boolean Series\n",
      "\n",
      "    >>> df.loc[df['shield'] > 6]\n",
      "                max_speed  shield\n",
      "    sidewinder          7       8\n",
      "\n",
      "    Conditional that returns a boolean Series with column labels specified\n",
      "\n",
      "    >>> df.loc[df['shield'] > 6, ['max_speed']]\n",
      "                max_speed\n",
      "    sidewinder          7\n",
      "\n",
      "    Multiple conditional using ``&`` that returns a boolean Series\n",
      "\n",
      "    >>> df.loc[(df['max_speed'] > 1) & (df['shield'] < 8)]\n",
      "                max_speed  shield\n",
      "    viper          4       5\n",
      "\n",
      "    Multiple conditional using ``|`` that returns a boolean Series\n",
      "\n",
      "    >>> df.loc[(df['max_speed'] > 4) | (df['shield'] < 5)]\n",
      "                max_speed  shield\n",
      "    cobra               1       2\n",
      "    sidewinder          7       8\n",
      "\n",
      "    Please ensure that each condition is wrapped in parentheses ``()``.\n",
      "    See the :ref:`user guide<indexing.boolean>`\n",
      "    for more details and explanations of Boolean indexing.\n",
      "\n",
      "    .. note::\n",
      "        If you find yourself using 3 or more conditionals in ``.loc[]``,\n",
      "        consider using :ref:`advanced indexing<advanced.advanced_hierarchical>`.\n",
      "\n",
      "        See below for using ``.loc[]`` on MultiIndex DataFrames.\n",
      "\n",
      "    Callable that returns a boolean Series\n",
      "\n",
      "    >>> df.loc[lambda df: df['shield'] == 8]\n",
      "                max_speed  shield\n",
      "    sidewinder          7       8\n",
      "\n",
      "    **Setting values**\n",
      "\n",
      "    Set value for all items matching the list of labels\n",
      "\n",
      "    >>> df.loc[['viper', 'sidewinder'], ['shield']] = 50\n",
      "    >>> df\n",
      "                max_speed  shield\n",
      "    cobra               1       2\n",
      "    viper               4      50\n",
      "    sidewinder          7      50\n",
      "\n",
      "    Set value for an entire row\n",
      "\n",
      "    >>> df.loc['cobra'] = 10\n",
      "    >>> df\n",
      "                max_speed  shield\n",
      "    cobra              10      10\n",
      "    viper               4      50\n",
      "    sidewinder          7      50\n",
      "\n",
      "    Set value for an entire column\n",
      "\n",
      "    >>> df.loc[:, 'max_speed'] = 30\n",
      "    >>> df\n",
      "                max_speed  shield\n",
      "    cobra              30      10\n",
      "    viper              30      50\n",
      "    sidewinder         30      50\n",
      "\n",
      "    Set value for rows matching callable condition\n",
      "\n",
      "    >>> df.loc[df['shield'] > 35] = 0\n",
      "    >>> df\n",
      "                max_speed  shield\n",
      "    cobra              30      10\n",
      "    viper               0       0\n",
      "    sidewinder          0       0\n",
      "\n",
      "    Add value matching location\n",
      "\n",
      "    >>> df.loc[\"viper\", \"shield\"] += 5\n",
      "    >>> df\n",
      "                max_speed  shield\n",
      "    cobra              30      10\n",
      "    viper               0       5\n",
      "    sidewinder          0       0\n",
      "\n",
      "    Setting using a ``Series`` or a ``DataFrame`` sets the values matching the\n",
      "    index labels, not the index positions.\n",
      "\n",
      "    >>> shuffled_df = df.loc[[\"viper\", \"cobra\", \"sidewinder\"]]\n",
      "    >>> df.loc[:] += shuffled_df\n",
      "    >>> df\n",
      "                max_speed  shield\n",
      "    cobra              60      20\n",
      "    viper               0      10\n",
      "    sidewinder          0       0\n",
      "\n",
      "    **Getting values on a DataFrame with an index that has integer labels**\n",
      "\n",
      "    Another example using integers for the index\n",
      "\n",
      "    >>> df = pd.DataFrame([[1, 2], [4, 5], [7, 8]],\n",
      "    ...                   index=[7, 8, 9], columns=['max_speed', 'shield'])\n",
      "    >>> df\n",
      "       max_speed  shield\n",
      "    7          1       2\n",
      "    8          4       5\n",
      "    9          7       8\n",
      "\n",
      "    Slice with integer labels for rows. As mentioned above, note that both\n",
      "    the start and stop of the slice are included.\n",
      "\n",
      "    >>> df.loc[7:9]\n",
      "       max_speed  shield\n",
      "    7          1       2\n",
      "    8          4       5\n",
      "    9          7       8\n",
      "\n",
      "    **Getting values with a MultiIndex**\n",
      "\n",
      "    A number of examples using a DataFrame with a MultiIndex\n",
      "\n",
      "    >>> tuples = [\n",
      "    ...     ('cobra', 'mark i'), ('cobra', 'mark ii'),\n",
      "    ...     ('sidewinder', 'mark i'), ('sidewinder', 'mark ii'),\n",
      "    ...     ('viper', 'mark ii'), ('viper', 'mark iii')\n",
      "    ... ]\n",
      "    >>> index = pd.MultiIndex.from_tuples(tuples)\n",
      "    >>> values = [[12, 2], [0, 4], [10, 20],\n",
      "    ...           [1, 4], [7, 1], [16, 36]]\n",
      "    >>> df = pd.DataFrame(values, columns=['max_speed', 'shield'], index=index)\n",
      "    >>> df\n",
      "                         max_speed  shield\n",
      "    cobra      mark i           12       2\n",
      "               mark ii           0       4\n",
      "    sidewinder mark i           10      20\n",
      "               mark ii           1       4\n",
      "    viper      mark ii           7       1\n",
      "               mark iii         16      36\n",
      "\n",
      "    Single label. Note this returns a DataFrame with a single index.\n",
      "\n",
      "    >>> df.loc['cobra']\n",
      "             max_speed  shield\n",
      "    mark i          12       2\n",
      "    mark ii          0       4\n",
      "\n",
      "    Single index tuple. Note this returns a Series.\n",
      "\n",
      "    >>> df.loc[('cobra', 'mark ii')]\n",
      "    max_speed    0\n",
      "    shield       4\n",
      "    Name: (cobra, mark ii), dtype: int64\n",
      "\n",
      "    Single label for row and column. Similar to passing in a tuple, this\n",
      "    returns a Series.\n",
      "\n",
      "    >>> df.loc['cobra', 'mark i']\n",
      "    max_speed    12\n",
      "    shield        2\n",
      "    Name: (cobra, mark i), dtype: int64\n",
      "\n",
      "    Single tuple. Note using ``[[]]`` returns a DataFrame.\n",
      "\n",
      "    >>> df.loc[[('cobra', 'mark ii')]]\n",
      "                   max_speed  shield\n",
      "    cobra mark ii          0       4\n",
      "\n",
      "    Single tuple for the index with a single label for the column\n",
      "\n",
      "    >>> df.loc[('cobra', 'mark i'), 'shield']\n",
      "    2\n",
      "\n",
      "    Slice from index tuple to single label\n",
      "\n",
      "    >>> df.loc[('cobra', 'mark i'):'viper']\n",
      "                         max_speed  shield\n",
      "    cobra      mark i           12       2\n",
      "               mark ii           0       4\n",
      "    sidewinder mark i           10      20\n",
      "               mark ii           1       4\n",
      "    viper      mark ii           7       1\n",
      "               mark iii         16      36\n",
      "\n",
      "    Slice from index tuple to index tuple\n",
      "\n",
      "    >>> df.loc[('cobra', 'mark i'):('viper', 'mark ii')]\n",
      "                        max_speed  shield\n",
      "    cobra      mark i          12       2\n",
      "               mark ii          0       4\n",
      "    sidewinder mark i          10      20\n",
      "               mark ii          1       4\n",
      "    viper      mark ii          7       1\n",
      "\n",
      "    Please see the :ref:`user guide<advanced.advanced_hierarchical>`\n",
      "    for more details and explanations of advanced indexing.\n",
      "\n"
     ]
    }
   ],
   "source": [
    "help(pd.Series.loc)"
   ]
  }
 ],
 "metadata": {
  "kernelspec": {
   "display_name": "Python [conda env:base] *",
   "language": "python",
   "name": "conda-base-py"
  },
  "language_info": {
   "codemirror_mode": {
    "name": "ipython",
    "version": 3
   },
   "file_extension": ".py",
   "mimetype": "text/x-python",
   "name": "python",
   "nbconvert_exporter": "python",
   "pygments_lexer": "ipython3",
   "version": "3.13.5"
  }
 },
 "nbformat": 4,
 "nbformat_minor": 5
}
